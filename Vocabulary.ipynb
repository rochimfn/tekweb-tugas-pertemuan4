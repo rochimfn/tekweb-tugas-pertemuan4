{
  "nbformat": 4,
  "nbformat_minor": 0,
  "metadata": {
    "colab": {
      "name": "Vocabulary",
      "provenance": [],
      "collapsed_sections": []
    },
    "kernelspec": {
      "name": "python3",
      "display_name": "Python 3"
    }
  },
  "cells": [
    {
      "cell_type": "markdown",
      "metadata": {
        "id": "pIOrhHVm9_t5"
      },
      "source": [
        "# JUDUL Vocabulary\n",
        "## Kontributor: Rochim Farul Noviyan, Reyhan Venyutzky, Hasna Zakiyyah Harsari, Nur Aini Rakhmawati\n",
        "## email kontributor: rochim.noviyan@gmail.com ,hasnazakiyyah16@gmail.com\n",
        "## Departemen Sistem Informasi, Institut Teknologi Sepuluh Nopember\n",
        "Abstrak:\n",
        "\n",
        "*Linked data merupakan metode pembangunan data terstruktur sehingga dapat saling terkait pada web. Linked data dibangun oleh teknologi web standar seperti salah satunya model data RDF untuk menghubungkan data dari berbagai sumber dan memiliki fungsi seperti hyperlink yang menghubungkan sekumpulan halaman web di internet. Dengan sekumpulan data yang terhubung dapat membentuk global data space atau dikenal dengan web of data. Pada kesempatan kali ini kami akan membuat model data RDF dengan bersumber pada dataset e-commerce [jakmall](jakmall.com/). Model data RDF terlebih dahulu dibuat dengan menggunakan vocabulary biasa sebagai contoh untuk berpikir secara logika lalu dilanjutkan dengan mengubah vocabulary menjadi vocabulary yang populer seperti foaf dan schema.*"
      ]
    },
    {
      "cell_type": "markdown",
      "metadata": {
        "id": "jP3LhyBD_8J_"
      },
      "source": [
        "## Dataset\n",
        "\n",
        "Dataset ini berisikan tentang data produk yang dijual pada salah satu online marketplace di Indonesia yaitu jakmall.com. Variabel dalam dataset ini mencakup nama produk, nama penjual, lokasi penjual, link url produk, harga produk, dan jumlah wishlist produk.\n",
        "\n",
        "Tabel dataset"
      ]
    },
    {
      "cell_type": "code",
      "metadata": {
        "id": "Jl62dognmwEr",
        "colab": {
          "base_uri": "https://localhost:8080/",
          "height": 206
        },
        "outputId": "9bc47304-83e5-461e-93a1-41b9c754feae"
      },
      "source": [
        "import pandas as pd\n",
        "\n",
        "df = pd.read_csv('https://gist.githubusercontent.com/rochimfn/d43d8f372126dfbade9b41c1e8490e7c/raw/ed69463ca6312daf020d4709ae3cc33ae2059dea/dataset.csv')\n",
        "df.head()"
      ],
      "execution_count": 78,
      "outputs": [
        {
          "output_type": "execute_result",
          "data": {
            "text/html": [
              "<div>\n",
              "<style scoped>\n",
              "    .dataframe tbody tr th:only-of-type {\n",
              "        vertical-align: middle;\n",
              "    }\n",
              "\n",
              "    .dataframe tbody tr th {\n",
              "        vertical-align: top;\n",
              "    }\n",
              "\n",
              "    .dataframe thead th {\n",
              "        text-align: right;\n",
              "    }\n",
              "</style>\n",
              "<table border=\"1\" class=\"dataframe\">\n",
              "  <thead>\n",
              "    <tr style=\"text-align: right;\">\n",
              "      <th></th>\n",
              "      <th>Seller_name</th>\n",
              "      <th>Seller_Location</th>\n",
              "      <th>Seller_Product</th>\n",
              "      <th>Seller_Product_url</th>\n",
              "      <th>Seller_price</th>\n",
              "      <th>Seller_product_wishlist</th>\n",
              "    </tr>\n",
              "  </thead>\n",
              "  <tbody>\n",
              "    <tr>\n",
              "      <th>0</th>\n",
              "      <td>GudangGrosir</td>\n",
              "      <td>DKI Jakarta</td>\n",
              "      <td>TaffSTUDIO Splitter Audio Shape U 3.5mm ke Hea...</td>\n",
              "      <td>https://www.jakmall.com/gudanggrosir/taffstudi...</td>\n",
              "      <td>Rp 6.800</td>\n",
              "      <td>839</td>\n",
              "    </tr>\n",
              "    <tr>\n",
              "      <th>1</th>\n",
              "      <td>SoundSquare</td>\n",
              "      <td>DKI Jakarta</td>\n",
              "      <td>TaffSTUDIO Mikrofon Kondenser Studio dengan Sh...</td>\n",
              "      <td>https://www.jakmall.com/soundsquare/taffstudio...</td>\n",
              "      <td>Rp 83.200</td>\n",
              "      <td>1471</td>\n",
              "    </tr>\n",
              "    <tr>\n",
              "      <th>2</th>\n",
              "      <td>Kelvin Online Shop</td>\n",
              "      <td>DKI Jakarta</td>\n",
              "      <td>Taffware Gaming Mouse Pad XL Desk Mat Motif Pe...</td>\n",
              "      <td>https://www.jakmall.com/kelvin-online-shop/taf...</td>\n",
              "      <td>Rp 22.500</td>\n",
              "      <td>2132</td>\n",
              "    </tr>\n",
              "    <tr>\n",
              "      <th>3</th>\n",
              "      <td>Fast n Cheap</td>\n",
              "      <td>DKI Jakarta</td>\n",
              "      <td>Taffware ICE FAN 3 Universal Laptop Vacuum Cooler</td>\n",
              "      <td>https://www.jakmall.com/fast-n-cheap/taffware-...</td>\n",
              "      <td>Rp 54.600</td>\n",
              "      <td>654</td>\n",
              "    </tr>\n",
              "    <tr>\n",
              "      <th>4</th>\n",
              "      <td>Fast n Cheap</td>\n",
              "      <td>DKI Jakarta</td>\n",
              "      <td>Splitter Audio Cable 3.5mm Male to 3.5mm HiFi ...</td>\n",
              "      <td>https://www.jakmall.com/fast-n-cheap/splitter-...</td>\n",
              "      <td>Rp 5.400</td>\n",
              "      <td>331</td>\n",
              "    </tr>\n",
              "  </tbody>\n",
              "</table>\n",
              "</div>"
            ],
            "text/plain": [
              "          Seller_name Seller_Location  ... Seller_price Seller_product_wishlist\n",
              "0        GudangGrosir     DKI Jakarta  ...     Rp 6.800                     839\n",
              "1         SoundSquare     DKI Jakarta  ...    Rp 83.200                    1471\n",
              "2  Kelvin Online Shop     DKI Jakarta  ...    Rp 22.500                    2132\n",
              "3        Fast n Cheap     DKI Jakarta  ...    Rp 54.600                     654\n",
              "4        Fast n Cheap     DKI Jakarta  ...     Rp 5.400                     331\n",
              "\n",
              "[5 rows x 6 columns]"
            ]
          },
          "metadata": {},
          "execution_count": 78
        }
      ]
    },
    {
      "cell_type": "markdown",
      "metadata": {
        "id": "HmsRVEOZAhTg"
      },
      "source": [
        "## Vocabulary\n",
        "\n",
        "### Namespace\n",
        "\n",
        "* rdfs: <http://www.w3.org/2000/01/rdf-schema#>\n",
        "* rdf: <http://www.w3.org/1999/02/22-rdf-syntax-ns#>\n",
        "* xsd: <http://www.w3.org/2001/XMLSchema#>\n",
        "* ex: <http://example.com/>\n",
        "\n",
        "### Kelas\n",
        "* ex:Toko; Merupakan kelas untuk toko atau penjual yang memiliki lapak jualan.\n",
        "  * Toko bertempat di Lokasi; Setiap toko harus memiliki lokasi.\n",
        "  * Toko menjual Produk; Toko harus memiliki produk atau layanan yang dijual.\n",
        "* ex:Lokasi; Menunjukkan lokasi atau tempat.\n",
        "* ex:Produk; Menujukkan 'sesuatu' yang dihasilkan atau diperjual belikan.\n",
        "  * Produk berharga mata uang; Produk dijual seharga beberapa nilai tergantung mata uang yang digunakan.\n",
        "\n",
        "### Data\n",
        "**Data 1**\n",
        "\n",
        "GudangGrosir adalah toko. \n",
        "GudangGrosir bertempat di Jakarta. \n",
        "GudangGrosir menjual Headphone. \n",
        "Headphone berharga 6800. \n",
        "\n",
        "**Data 2**\n",
        "\n",
        "SoundSquare adalah toko. \n",
        "SoundSquare bertempat di Jakarta. \n",
        "SoundSquare menjual Headphone. \n",
        "Headphone berharga 83200. \n",
        "\n",
        "**Data 3**\n",
        "\n",
        "Computindo adalah toko. \n",
        "Computindo bertempat di Jakarta. \n",
        "Computindo menjual Headphone. \n",
        "Headphone berharga 459100. "
      ]
    },
    {
      "cell_type": "code",
      "metadata": {
        "id": "nXZL4AMNA5uR",
        "colab": {
          "base_uri": "https://localhost:8080/",
          "height": 17
        },
        "outputId": "a16fc2a3-6514-4b0f-d24d-e1538b845665"
      },
      "source": [
        "!python -m pip install --no-input jupyter-rdfify --quiet\n",
        "%reload_ext jupyter-rdfify"
      ],
      "execution_count": 79,
      "outputs": [
        {
          "output_type": "display_data",
          "data": {
            "application/javascript": [
              "\n",
              "    if (typeof IPython !== \"undefined\") {\n",
              "        IPython.CodeCell.options_default.highlight_modes['application/sparql-query'] = {'reg':[/^%%rdf sparql/]};\n",
              "        IPython.CodeCell.options_default.highlight_modes['text/turtle'] = {'reg':[/^%%rdf turtle/, /^%%rdf shex/]};\n",
              "        IPython.CodeCell.options_default.highlight_modes['application/ld+json'] = {'reg':[/^%%rdf json-ld/]};\n",
              "        IPython.notebook.get_cells().map(function(cell){ if (cell.cell_type == 'code'){ cell.auto_highlight(); } });\n",
              "    }\n",
              "    "
            ]
          },
          "metadata": {}
        }
      ]
    },
    {
      "cell_type": "code",
      "metadata": {
        "colab": {
          "base_uri": "https://localhost:8080/",
          "height": 448
        },
        "id": "gnrrxDlaLCvl",
        "outputId": "1bc27903-05b4-46aa-9ce5-6b2f67ea94d2"
      },
      "source": [
        "%%rdf turtle\n",
        "## Namespace\n",
        "@prefix rdfs: <http://www.w3.org/2000/01/rdf-schema#> .\n",
        "@prefix rdf: <http://www.w3.org/1999/02/22-rdf-syntax-ns#> .\n",
        "@prefix xsd: <http://www.w3.org/2001/XMLSchema#> .\n",
        "@prefix ex: <http://example.com/> .\n",
        "\n",
        "## Class\n",
        "ex:Toko a rdfs:Class .\n",
        "ex:Lokasi a rdfs:Class .\n",
        "ex:Produk a rdfs:Class .\n",
        "\n",
        "## Properties\n",
        "ex:bertempat a rdf:Property .\n",
        "ex:bertempat rdfs:domain ex:Toko .\n",
        "ex:bertempat rdfs:range ex:Lokasi .\n",
        "\n",
        "ex:menjual a rdf:Property .\n",
        "ex:menjual rdfs:domain ex:Toko .\n",
        "ex:menjual rdfs:range ex:Produk .\n",
        "\n",
        "ex:berharga a rdf:Property .\n",
        "ex:berharga rdfs:domain ex:Produk .\n",
        "ex:berharga rdfs:range xsd:currency .\n",
        "\n",
        "## Data 1\n",
        "ex:GudangGrosir a ex:Toko .\n",
        "ex:Jakarta a ex:Lokasi .\n",
        "ex:Headphone a ex:Produk .\n",
        "ex:GudangGrosir ex:bertempat ex:Jakarta .\n",
        "ex:GudangGrosir ex:menjual ex:Headphone .\n",
        "ex:Headphone ex:berharga \"6800\"^^xsd:currency ."
      ],
      "execution_count": 80,
      "outputs": [
        {
          "output_type": "display_data",
          "data": {
            "text/plain": [
              "<graphviz.dot.Digraph at 0x7f3f6c52ea50>"
            ],
            "image/svg+xml": "<?xml version=\"1.0\" encoding=\"UTF-8\" standalone=\"no\"?>\n<!DOCTYPE svg PUBLIC \"-//W3C//DTD SVG 1.1//EN\"\n \"http://www.w3.org/Graphics/SVG/1.1/DTD/svg11.dtd\">\n<!-- Generated by graphviz version 2.40.1 (20161225.0304)\n -->\n<!-- Title: %3 Pages: 1 -->\n<svg width=\"1079pt\" height=\"305pt\"\n viewBox=\"0.00 0.00 1079.45 305.00\" xmlns=\"http://www.w3.org/2000/svg\" xmlns:xlink=\"http://www.w3.org/1999/xlink\">\n<g id=\"graph0\" class=\"graph\" transform=\"scale(1 1) rotate(0) translate(4 301)\">\n<title>%3</title>\n<polygon fill=\"#ffffff\" stroke=\"transparent\" points=\"-4,4 -4,-301 1075.4458,-301 1075.4458,4 -4,4\"/>\n<!-- 0 -->\n<g id=\"node1\" class=\"node\">\n<title>0</title>\n<ellipse fill=\"none\" stroke=\"#000000\" cx=\"646.4458\" cy=\"-105\" rx=\"50.0912\" ry=\"18\"/>\n<text text-anchor=\"middle\" x=\"646.4458\" y=\"-101.3\" font-family=\"Times,serif\" font-size=\"14.00\" fill=\"#000000\">ex:Produk</text>\n</g>\n<!-- 7 -->\n<g id=\"node8\" class=\"node\">\n<title>7</title>\n<ellipse fill=\"none\" stroke=\"#000000\" cx=\"273.4458\" cy=\"-18\" rx=\"46.5926\" ry=\"18\"/>\n<text text-anchor=\"middle\" x=\"273.4458\" y=\"-14.3\" font-family=\"Times,serif\" font-size=\"14.00\" fill=\"#000000\">rdfs:Class</text>\n</g>\n<!-- 0&#45;&gt;7 -->\n<g id=\"edge3\" class=\"edge\">\n<title>0&#45;&gt;7</title>\n<path fill=\"none\" stroke=\"#000000\" d=\"M604.383,-95.1891C535.2357,-79.0609 397.834,-47.0128 323.6859,-29.7182\"/>\n<polygon fill=\"#000000\" stroke=\"#000000\" points=\"324.1904,-26.242 313.6567,-27.379 322.6003,-33.059 324.1904,-26.242\"/>\n<text text-anchor=\"middle\" x=\"505.4458\" y=\"-57.8\" font-family=\"Times,serif\" font-size=\"14.00\" fill=\"#000000\">rdf:type</text>\n</g>\n<!-- 1 -->\n<g id=\"node2\" class=\"node\">\n<title>1</title>\n<ellipse fill=\"none\" stroke=\"#000000\" cx=\"849.4458\" cy=\"-105\" rx=\"58.4896\" ry=\"18\"/>\n<text text-anchor=\"middle\" x=\"849.4458\" y=\"-101.3\" font-family=\"Times,serif\" font-size=\"14.00\" fill=\"#000000\">xsd:currency</text>\n</g>\n<!-- 2 -->\n<g id=\"node3\" class=\"node\">\n<title>2</title>\n<ellipse fill=\"none\" stroke=\"#000000\" cx=\"107.4458\" cy=\"-105\" rx=\"47.3916\" ry=\"18\"/>\n<text text-anchor=\"middle\" x=\"107.4458\" y=\"-101.3\" font-family=\"Times,serif\" font-size=\"14.00\" fill=\"#000000\">ex:Lokasi</text>\n</g>\n<!-- 2&#45;&gt;7 -->\n<g id=\"edge8\" class=\"edge\">\n<title>2&#45;&gt;7</title>\n<path fill=\"none\" stroke=\"#000000\" d=\"M135.6054,-90.2416C163.4367,-75.6554 206.1582,-53.2652 236.6587,-37.28\"/>\n<polygon fill=\"#000000\" stroke=\"#000000\" points=\"238.4695,-40.2826 245.702,-32.5404 235.22,-34.0825 238.4695,-40.2826\"/>\n<text text-anchor=\"middle\" x=\"223.4458\" y=\"-57.8\" font-family=\"Times,serif\" font-size=\"14.00\" fill=\"#000000\">rdf:type</text>\n</g>\n<!-- 3 -->\n<g id=\"node4\" class=\"node\">\n<title>3</title>\n<ellipse fill=\"none\" stroke=\"#000000\" cx=\"273.4458\" cy=\"-279\" rx=\"75.2868\" ry=\"18\"/>\n<text text-anchor=\"middle\" x=\"273.4458\" y=\"-275.3\" font-family=\"Times,serif\" font-size=\"14.00\" fill=\"#000000\">ex:GudangGrosir</text>\n</g>\n<!-- 9 -->\n<g id=\"node10\" class=\"node\">\n<title>9</title>\n<ellipse fill=\"none\" stroke=\"#000000\" cx=\"47.4458\" cy=\"-192\" rx=\"47.3916\" ry=\"18\"/>\n<text text-anchor=\"middle\" x=\"47.4458\" y=\"-188.3\" font-family=\"Times,serif\" font-size=\"14.00\" fill=\"#000000\">ex:Jakarta</text>\n</g>\n<!-- 3&#45;&gt;9 -->\n<g id=\"edge5\" class=\"edge\">\n<title>3&#45;&gt;9</title>\n<path fill=\"none\" stroke=\"#000000\" d=\"M233.5618,-263.6464C193.4403,-248.2014 131.768,-224.4603 90.5414,-208.5899\"/>\n<polygon fill=\"#000000\" stroke=\"#000000\" points=\"91.6318,-205.2593 81.042,-204.933 89.1169,-211.792 91.6318,-205.2593\"/>\n<text text-anchor=\"middle\" x=\"211.4458\" y=\"-231.8\" font-family=\"Times,serif\" font-size=\"14.00\" fill=\"#000000\">ex:bertempat</text>\n</g>\n<!-- 11 -->\n<g id=\"node12\" class=\"node\">\n<title>11</title>\n<ellipse fill=\"none\" stroke=\"#000000\" cx=\"802.4458\" cy=\"-192\" rx=\"64.9885\" ry=\"18\"/>\n<text text-anchor=\"middle\" x=\"802.4458\" y=\"-188.3\" font-family=\"Times,serif\" font-size=\"14.00\" fill=\"#000000\">ex:Headphone</text>\n</g>\n<!-- 3&#45;&gt;11 -->\n<g id=\"edge2\" class=\"edge\">\n<title>3&#45;&gt;11</title>\n<path fill=\"none\" stroke=\"#000000\" d=\"M340.4554,-270.7175C429.4781,-259.2856 591.4613,-236.9925 728.4458,-210 733.7158,-208.9616 739.1768,-207.7994 744.6353,-206.5789\"/>\n<polygon fill=\"#000000\" stroke=\"#000000\" points=\"745.4532,-209.9823 754.4164,-204.3333 743.8868,-203.1598 745.4532,-209.9823\"/>\n<text text-anchor=\"middle\" x=\"661.4458\" y=\"-231.8\" font-family=\"Times,serif\" font-size=\"14.00\" fill=\"#000000\">ex:menjual</text>\n</g>\n<!-- 12 -->\n<g id=\"node13\" class=\"node\">\n<title>12</title>\n<ellipse fill=\"none\" stroke=\"#000000\" cx=\"273.4458\" cy=\"-105\" rx=\"42.4939\" ry=\"18\"/>\n<text text-anchor=\"middle\" x=\"273.4458\" y=\"-101.3\" font-family=\"Times,serif\" font-size=\"14.00\" fill=\"#000000\">ex:Toko</text>\n</g>\n<!-- 3&#45;&gt;12 -->\n<g id=\"edge12\" class=\"edge\">\n<title>3&#45;&gt;12</title>\n<path fill=\"none\" stroke=\"#000000\" d=\"M273.4458,-260.7078C273.4458,-230.3436 273.4458,-169.3226 273.4458,-133.3464\"/>\n<polygon fill=\"#000000\" stroke=\"#000000\" points=\"276.9459,-133.0471 273.4458,-123.0471 269.9459,-133.0471 276.9459,-133.0471\"/>\n<text text-anchor=\"middle\" x=\"296.4458\" y=\"-188.3\" font-family=\"Times,serif\" font-size=\"14.00\" fill=\"#000000\">rdf:type</text>\n</g>\n<!-- 4 -->\n<g id=\"node5\" class=\"node\">\n<title>4</title>\n<ellipse fill=\"none\" stroke=\"#000000\" cx=\"179.4458\" cy=\"-192\" rx=\"58.4896\" ry=\"18\"/>\n<text text-anchor=\"middle\" x=\"179.4458\" y=\"-188.3\" font-family=\"Times,serif\" font-size=\"14.00\" fill=\"#000000\">ex:bertempat</text>\n</g>\n<!-- 4&#45;&gt;2 -->\n<g id=\"edge11\" class=\"edge\">\n<title>4&#45;&gt;2</title>\n<path fill=\"none\" stroke=\"#000000\" d=\"M136.9434,-179.5084C125.7974,-174.1116 115.0588,-166.5347 108.4458,-156 104.3024,-149.3996 102.8895,-141.3105 102.8193,-133.5363\"/>\n<polygon fill=\"#000000\" stroke=\"#000000\" points=\"106.3282,-133.489 103.4257,-123.2995 99.3404,-133.075 106.3282,-133.489\"/>\n<text text-anchor=\"middle\" x=\"137.4458\" y=\"-144.8\" font-family=\"Times,serif\" font-size=\"14.00\" fill=\"#000000\">rdfs:range</text>\n</g>\n<!-- 5 -->\n<g id=\"node6\" class=\"node\">\n<title>5</title>\n<ellipse fill=\"none\" stroke=\"#000000\" cx=\"468.4458\" cy=\"-105\" rx=\"55.7903\" ry=\"18\"/>\n<text text-anchor=\"middle\" x=\"468.4458\" y=\"-101.3\" font-family=\"Times,serif\" font-size=\"14.00\" fill=\"#000000\">rdf:Property</text>\n</g>\n<!-- 4&#45;&gt;5 -->\n<g id=\"edge13\" class=\"edge\">\n<title>4&#45;&gt;5</title>\n<path fill=\"none\" stroke=\"#000000\" d=\"M223.8381,-180.1408C232.9323,-177.9263 242.4683,-175.7586 251.4458,-174 306.9593,-163.1256 323.8632,-174.1357 377.4458,-156 397.9992,-149.0435 419.2465,-137.4274 436.0363,-127.0371\"/>\n<polygon fill=\"#000000\" stroke=\"#000000\" points=\"438.3055,-129.7423 444.8726,-121.4282 434.5541,-123.8324 438.3055,-129.7423\"/>\n<text text-anchor=\"middle\" x=\"435.4458\" y=\"-144.8\" font-family=\"Times,serif\" font-size=\"14.00\" fill=\"#000000\">rdf:type</text>\n</g>\n<!-- 4&#45;&gt;12 -->\n<g id=\"edge18\" class=\"edge\">\n<title>4&#45;&gt;12</title>\n<path fill=\"none\" stroke=\"#000000\" d=\"M178.9701,-173.7272C179.6089,-163.1314 182.0725,-150.1224 189.4458,-141 198.595,-129.6805 211.9733,-121.8507 225.375,-116.4633\"/>\n<polygon fill=\"#000000\" stroke=\"#000000\" points=\"226.8623,-119.6474 235.0775,-112.957 224.4832,-113.0641 226.8623,-119.6474\"/>\n<text text-anchor=\"middle\" x=\"224.4458\" y=\"-144.8\" font-family=\"Times,serif\" font-size=\"14.00\" fill=\"#000000\">rdfs:domain</text>\n</g>\n<!-- 6 -->\n<g id=\"node7\" class=\"node\">\n<title>6</title>\n<ellipse fill=\"none\" stroke=\"#000000\" cx=\"468.4458\" cy=\"-192\" rx=\"51.9908\" ry=\"18\"/>\n<text text-anchor=\"middle\" x=\"468.4458\" y=\"-188.3\" font-family=\"Times,serif\" font-size=\"14.00\" fill=\"#000000\">ex:menjual</text>\n</g>\n<!-- 6&#45;&gt;0 -->\n<g id=\"edge15\" class=\"edge\">\n<title>6&#45;&gt;0</title>\n<path fill=\"none\" stroke=\"#000000\" d=\"M512.7418,-182.5575C535.0707,-176.7451 562.0822,-168.0621 584.4458,-156 586.4828,-154.9013 603.101,-141.2097 618.6189,-128.2904\"/>\n<polygon fill=\"#000000\" stroke=\"#000000\" points=\"621.1123,-130.7684 626.5504,-121.6757 616.629,-125.3926 621.1123,-130.7684\"/>\n<text text-anchor=\"middle\" x=\"632.4458\" y=\"-144.8\" font-family=\"Times,serif\" font-size=\"14.00\" fill=\"#000000\">rdfs:range</text>\n</g>\n<!-- 6&#45;&gt;5 -->\n<g id=\"edge1\" class=\"edge\">\n<title>6&#45;&gt;5</title>\n<path fill=\"none\" stroke=\"#000000\" d=\"M468.4458,-173.9735C468.4458,-162.1918 468.4458,-146.5607 468.4458,-133.1581\"/>\n<polygon fill=\"#000000\" stroke=\"#000000\" points=\"471.9459,-133.0033 468.4458,-123.0034 464.9459,-133.0034 471.9459,-133.0033\"/>\n<text text-anchor=\"middle\" x=\"491.4458\" y=\"-144.8\" font-family=\"Times,serif\" font-size=\"14.00\" fill=\"#000000\">rdf:type</text>\n</g>\n<!-- 6&#45;&gt;12 -->\n<g id=\"edge9\" class=\"edge\">\n<title>6&#45;&gt;12</title>\n<path fill=\"none\" stroke=\"#000000\" d=\"M420.0038,-185.2268C379.4918,-178.8346 325.5124,-168.3969 307.4458,-156 298.4959,-149.8588 291.2804,-140.515 285.838,-131.4956\"/>\n<polygon fill=\"#000000\" stroke=\"#000000\" points=\"288.8868,-129.7762 280.988,-122.715 282.7593,-133.1607 288.8868,-129.7762\"/>\n<text text-anchor=\"middle\" x=\"342.4458\" y=\"-144.8\" font-family=\"Times,serif\" font-size=\"14.00\" fill=\"#000000\">rdfs:domain</text>\n</g>\n<!-- 8 -->\n<g id=\"node9\" class=\"node\">\n<title>8</title>\n<polygon fill=\"none\" stroke=\"#000000\" points=\"1071.4458,-123 925.4458,-123 925.4458,-87 1071.4458,-87 1071.4458,-123\"/>\n<text text-anchor=\"middle\" x=\"998.4458\" y=\"-101.3\" font-family=\"Times,serif\" font-size=\"14.00\" fill=\"#000000\">&quot;6800&quot;^^xsd:currency</text>\n</g>\n<!-- 9&#45;&gt;2 -->\n<g id=\"edge17\" class=\"edge\">\n<title>9&#45;&gt;2</title>\n<path fill=\"none\" stroke=\"#000000\" d=\"M39.0078,-173.871C35.5285,-163.5781 33.5285,-150.8281 39.4458,-141 44.5084,-132.5915 52.2667,-126.0441 60.7562,-120.9822\"/>\n<polygon fill=\"#000000\" stroke=\"#000000\" points=\"62.5669,-123.9844 69.7854,-116.2291 59.3062,-117.7902 62.5669,-123.9844\"/>\n<text text-anchor=\"middle\" x=\"62.4458\" y=\"-144.8\" font-family=\"Times,serif\" font-size=\"14.00\" fill=\"#000000\">rdf:type</text>\n</g>\n<!-- 10 -->\n<g id=\"node11\" class=\"node\">\n<title>10</title>\n<ellipse fill=\"none\" stroke=\"#000000\" cx=\"665.4458\" cy=\"-192\" rx=\"53.8905\" ry=\"18\"/>\n<text text-anchor=\"middle\" x=\"665.4458\" y=\"-188.3\" font-family=\"Times,serif\" font-size=\"14.00\" fill=\"#000000\">ex:berharga</text>\n</g>\n<!-- 10&#45;&gt;0 -->\n<g id=\"edge16\" class=\"edge\">\n<title>10&#45;&gt;0</title>\n<path fill=\"none\" stroke=\"#000000\" d=\"M667.5513,-173.8053C668.168,-163.9557 668.0855,-151.6571 665.4458,-141 664.6886,-137.9431 663.6193,-134.8596 662.3695,-131.8514\"/>\n<polygon fill=\"#000000\" stroke=\"#000000\" points=\"665.4171,-130.1131 657.9233,-122.6234 659.1109,-133.1515 665.4171,-130.1131\"/>\n<text text-anchor=\"middle\" x=\"703.4458\" y=\"-144.8\" font-family=\"Times,serif\" font-size=\"14.00\" fill=\"#000000\">rdfs:domain</text>\n</g>\n<!-- 10&#45;&gt;1 -->\n<g id=\"edge10\" class=\"edge\">\n<title>10&#45;&gt;1</title>\n<path fill=\"none\" stroke=\"#000000\" d=\"M706.0021,-179.9634C713.443,-177.8832 721.1596,-175.81 728.4458,-174 765.9223,-164.6901 781.1964,-177.2399 813.4458,-156 822.6101,-149.9643 830.1566,-140.7252 835.9315,-131.7607\"/>\n<polygon fill=\"#000000\" stroke=\"#000000\" points=\"839.0258,-133.4045 841.1102,-123.0167 833.0028,-129.8373 839.0258,-133.4045\"/>\n<text text-anchor=\"middle\" x=\"856.4458\" y=\"-144.8\" font-family=\"Times,serif\" font-size=\"14.00\" fill=\"#000000\">rdfs:range</text>\n</g>\n<!-- 10&#45;&gt;5 -->\n<g id=\"edge14\" class=\"edge\">\n<title>10&#45;&gt;5</title>\n<path fill=\"none\" stroke=\"#000000\" d=\"M617.3832,-183.6164C591.841,-177.9868 560.4394,-169.1464 534.4458,-156 524.845,-151.1444 523.9389,-147.6046 515.4458,-141 509.9944,-136.7607 504.1671,-132.267 498.5366,-127.9443\"/>\n<polygon fill=\"#000000\" stroke=\"#000000\" points=\"500.5616,-125.0866 490.4949,-121.783 496.3043,-130.6432 500.5616,-125.0866\"/>\n<text text-anchor=\"middle\" x=\"557.4458\" y=\"-144.8\" font-family=\"Times,serif\" font-size=\"14.00\" fill=\"#000000\">rdf:type</text>\n</g>\n<!-- 11&#45;&gt;0 -->\n<g id=\"edge6\" class=\"edge\">\n<title>11&#45;&gt;0</title>\n<path fill=\"none\" stroke=\"#000000\" d=\"M785.3126,-174.6191C773.9358,-163.8249 758.2368,-150.2869 742.4458,-141 727.8337,-132.4065 710.8078,-125.2246 695.1861,-119.5934\"/>\n<polygon fill=\"#000000\" stroke=\"#000000\" points=\"696.2698,-116.2647 685.675,-116.2888 693.9724,-122.877 696.2698,-116.2647\"/>\n<text text-anchor=\"middle\" x=\"786.4458\" y=\"-144.8\" font-family=\"Times,serif\" font-size=\"14.00\" fill=\"#000000\">rdf:type</text>\n</g>\n<!-- 11&#45;&gt;8 -->\n<g id=\"edge4\" class=\"edge\">\n<title>11&#45;&gt;8</title>\n<path fill=\"none\" stroke=\"#000000\" d=\"M839.4315,-177.1275C854.9482,-170.7763 873.1407,-163.1835 889.4458,-156 910.0662,-146.9152 932.6584,-136.4332 951.9011,-127.3437\"/>\n<polygon fill=\"#000000\" stroke=\"#000000\" points=\"953.5173,-130.451 961.0551,-123.0057 950.5196,-124.1253 953.5173,-130.451\"/>\n<text text-anchor=\"middle\" x=\"955.9458\" y=\"-144.8\" font-family=\"Times,serif\" font-size=\"14.00\" fill=\"#000000\">ex:berharga</text>\n</g>\n<!-- 12&#45;&gt;7 -->\n<g id=\"edge7\" class=\"edge\">\n<title>12&#45;&gt;7</title>\n<path fill=\"none\" stroke=\"#000000\" d=\"M273.4458,-86.9735C273.4458,-75.1918 273.4458,-59.5607 273.4458,-46.1581\"/>\n<polygon fill=\"#000000\" stroke=\"#000000\" points=\"276.9459,-46.0033 273.4458,-36.0034 269.9459,-46.0034 276.9459,-46.0033\"/>\n<text text-anchor=\"middle\" x=\"296.4458\" y=\"-57.8\" font-family=\"Times,serif\" font-size=\"14.00\" fill=\"#000000\">rdf:type</text>\n</g>\n</g>\n</svg>\n"
          },
          "metadata": {}
        }
      ]
    },
    {
      "cell_type": "code",
      "metadata": {
        "colab": {
          "base_uri": "https://localhost:8080/",
          "height": 448
        },
        "id": "rtJ7sihtx1Jz",
        "outputId": "38ce8aed-a06a-44b2-c641-5a4c8ed5eb59"
      },
      "source": [
        "%%rdf turtle\n",
        "## Namespace\n",
        "@prefix rdfs: <http://www.w3.org/2000/01/rdf-schema#> .\n",
        "@prefix rdf: <http://www.w3.org/1999/02/22-rdf-syntax-ns#> .\n",
        "@prefix xsd: <http://www.w3.org/2001/XMLSchema#> .\n",
        "@prefix ex: <http://example.com/> .\n",
        "\n",
        "## Class\n",
        "ex:Toko a rdfs:Class .\n",
        "ex:Lokasi a rdfs:Class .\n",
        "ex:Produk a rdfs:Class .\n",
        "\n",
        "## Properties\n",
        "ex:bertempat a rdf:Property .\n",
        "ex:bertempat rdfs:domain ex:Toko .\n",
        "ex:bertempat rdfs:range ex:Lokasi .\n",
        "\n",
        "ex:menjual a rdf:Property .\n",
        "ex:menjual rdfs:domain ex:Toko .\n",
        "ex:menjual rdfs:range ex:Produk .\n",
        "\n",
        "ex:berharga a rdf:Property .\n",
        "ex:berharga rdfs:domain ex:Produk .\n",
        "ex:berharga rdfs:range xsd:currency .\n",
        "\n",
        "## Data 2\n",
        "ex:SoundSquare a ex:Toko .\n",
        "ex:Jakarta a ex:Lokasi .\n",
        "ex:Headphone a ex:Produk .\n",
        "ex:SoundSquare ex:bertempat ex:Jakarta .\n",
        "ex:SoundSquare ex:menjual ex:Headphone .\n",
        "ex:Headphone ex:berharga \"83200\"^^xsd:currency .\n"
      ],
      "execution_count": 81,
      "outputs": [
        {
          "output_type": "display_data",
          "data": {
            "text/plain": [
              "<graphviz.dot.Digraph at 0x7f3f6c4405d0>"
            ],
            "image/svg+xml": "<?xml version=\"1.0\" encoding=\"UTF-8\" standalone=\"no\"?>\n<!DOCTYPE svg PUBLIC \"-//W3C//DTD SVG 1.1//EN\"\n \"http://www.w3.org/Graphics/SVG/1.1/DTD/svg11.dtd\">\n<!-- Generated by graphviz version 2.40.1 (20161225.0304)\n -->\n<!-- Title: %3 Pages: 1 -->\n<svg width=\"1087pt\" height=\"305pt\"\n viewBox=\"0.00 0.00 1086.95 305.00\" xmlns=\"http://www.w3.org/2000/svg\" xmlns:xlink=\"http://www.w3.org/1999/xlink\">\n<g id=\"graph0\" class=\"graph\" transform=\"scale(1 1) rotate(0) translate(4 301)\">\n<title>%3</title>\n<polygon fill=\"#ffffff\" stroke=\"transparent\" points=\"-4,4 -4,-301 1082.9458,-301 1082.9458,4 -4,4\"/>\n<!-- 0 -->\n<g id=\"node1\" class=\"node\">\n<title>0</title>\n<ellipse fill=\"none\" stroke=\"#000000\" cx=\"646.4458\" cy=\"-105\" rx=\"50.0912\" ry=\"18\"/>\n<text text-anchor=\"middle\" x=\"646.4458\" y=\"-101.3\" font-family=\"Times,serif\" font-size=\"14.00\" fill=\"#000000\">ex:Produk</text>\n</g>\n<!-- 8 -->\n<g id=\"node9\" class=\"node\">\n<title>8</title>\n<ellipse fill=\"none\" stroke=\"#000000\" cx=\"273.4458\" cy=\"-18\" rx=\"46.5926\" ry=\"18\"/>\n<text text-anchor=\"middle\" x=\"273.4458\" y=\"-14.3\" font-family=\"Times,serif\" font-size=\"14.00\" fill=\"#000000\">rdfs:Class</text>\n</g>\n<!-- 0&#45;&gt;8 -->\n<g id=\"edge2\" class=\"edge\">\n<title>0&#45;&gt;8</title>\n<path fill=\"none\" stroke=\"#000000\" d=\"M604.383,-95.1891C535.2357,-79.0609 397.834,-47.0128 323.6859,-29.7182\"/>\n<polygon fill=\"#000000\" stroke=\"#000000\" points=\"324.1904,-26.242 313.6567,-27.379 322.6003,-33.059 324.1904,-26.242\"/>\n<text text-anchor=\"middle\" x=\"505.4458\" y=\"-57.8\" font-family=\"Times,serif\" font-size=\"14.00\" fill=\"#000000\">rdf:type</text>\n</g>\n<!-- 1 -->\n<g id=\"node2\" class=\"node\">\n<title>1</title>\n<ellipse fill=\"none\" stroke=\"#000000\" cx=\"107.4458\" cy=\"-105\" rx=\"47.3916\" ry=\"18\"/>\n<text text-anchor=\"middle\" x=\"107.4458\" y=\"-101.3\" font-family=\"Times,serif\" font-size=\"14.00\" fill=\"#000000\">ex:Lokasi</text>\n</g>\n<!-- 1&#45;&gt;8 -->\n<g id=\"edge12\" class=\"edge\">\n<title>1&#45;&gt;8</title>\n<path fill=\"none\" stroke=\"#000000\" d=\"M135.6054,-90.2416C163.4367,-75.6554 206.1582,-53.2652 236.6587,-37.28\"/>\n<polygon fill=\"#000000\" stroke=\"#000000\" points=\"238.4695,-40.2826 245.702,-32.5404 235.22,-34.0825 238.4695,-40.2826\"/>\n<text text-anchor=\"middle\" x=\"223.4458\" y=\"-57.8\" font-family=\"Times,serif\" font-size=\"14.00\" fill=\"#000000\">rdf:type</text>\n</g>\n<!-- 2 -->\n<g id=\"node3\" class=\"node\">\n<title>2</title>\n<ellipse fill=\"none\" stroke=\"#000000\" cx=\"849.4458\" cy=\"-105\" rx=\"58.4896\" ry=\"18\"/>\n<text text-anchor=\"middle\" x=\"849.4458\" y=\"-101.3\" font-family=\"Times,serif\" font-size=\"14.00\" fill=\"#000000\">xsd:currency</text>\n</g>\n<!-- 3 -->\n<g id=\"node4\" class=\"node\">\n<title>3</title>\n<polygon fill=\"none\" stroke=\"#000000\" points=\"1078.9458,-123 925.9458,-123 925.9458,-87 1078.9458,-87 1078.9458,-123\"/>\n<text text-anchor=\"middle\" x=\"1002.4458\" y=\"-101.3\" font-family=\"Times,serif\" font-size=\"14.00\" fill=\"#000000\">&quot;83200&quot;^^xsd:currency</text>\n</g>\n<!-- 4 -->\n<g id=\"node5\" class=\"node\">\n<title>4</title>\n<ellipse fill=\"none\" stroke=\"#000000\" cx=\"273.4458\" cy=\"-279\" rx=\"72.5877\" ry=\"18\"/>\n<text text-anchor=\"middle\" x=\"273.4458\" y=\"-275.3\" font-family=\"Times,serif\" font-size=\"14.00\" fill=\"#000000\">ex:SoundSquare</text>\n</g>\n<!-- 9 -->\n<g id=\"node10\" class=\"node\">\n<title>9</title>\n<ellipse fill=\"none\" stroke=\"#000000\" cx=\"47.4458\" cy=\"-192\" rx=\"47.3916\" ry=\"18\"/>\n<text text-anchor=\"middle\" x=\"47.4458\" y=\"-188.3\" font-family=\"Times,serif\" font-size=\"14.00\" fill=\"#000000\">ex:Jakarta</text>\n</g>\n<!-- 4&#45;&gt;9 -->\n<g id=\"edge14\" class=\"edge\">\n<title>4&#45;&gt;9</title>\n<path fill=\"none\" stroke=\"#000000\" d=\"M234.0796,-263.8458C193.9213,-248.3866 131.7868,-224.4676 90.3824,-208.5287\"/>\n<polygon fill=\"#000000\" stroke=\"#000000\" points=\"91.4359,-205.1839 80.846,-204.8576 88.921,-211.7166 91.4359,-205.1839\"/>\n<text text-anchor=\"middle\" x=\"211.4458\" y=\"-231.8\" font-family=\"Times,serif\" font-size=\"14.00\" fill=\"#000000\">ex:bertempat</text>\n</g>\n<!-- 11 -->\n<g id=\"node12\" class=\"node\">\n<title>11</title>\n<ellipse fill=\"none\" stroke=\"#000000\" cx=\"802.4458\" cy=\"-192\" rx=\"64.9885\" ry=\"18\"/>\n<text text-anchor=\"middle\" x=\"802.4458\" y=\"-188.3\" font-family=\"Times,serif\" font-size=\"14.00\" fill=\"#000000\">ex:Headphone</text>\n</g>\n<!-- 4&#45;&gt;11 -->\n<g id=\"edge7\" class=\"edge\">\n<title>4&#45;&gt;11</title>\n<path fill=\"none\" stroke=\"#000000\" d=\"M338.9343,-270.9127C427.6234,-259.5406 590.6774,-237.147 728.4458,-210 733.7158,-208.9616 739.1768,-207.7994 744.6353,-206.5789\"/>\n<polygon fill=\"#000000\" stroke=\"#000000\" points=\"745.4532,-209.9823 754.4164,-204.3333 743.8868,-203.1598 745.4532,-209.9823\"/>\n<text text-anchor=\"middle\" x=\"661.4458\" y=\"-231.8\" font-family=\"Times,serif\" font-size=\"14.00\" fill=\"#000000\">ex:menjual</text>\n</g>\n<!-- 12 -->\n<g id=\"node13\" class=\"node\">\n<title>12</title>\n<ellipse fill=\"none\" stroke=\"#000000\" cx=\"273.4458\" cy=\"-105\" rx=\"42.4939\" ry=\"18\"/>\n<text text-anchor=\"middle\" x=\"273.4458\" y=\"-101.3\" font-family=\"Times,serif\" font-size=\"14.00\" fill=\"#000000\">ex:Toko</text>\n</g>\n<!-- 4&#45;&gt;12 -->\n<g id=\"edge13\" class=\"edge\">\n<title>4&#45;&gt;12</title>\n<path fill=\"none\" stroke=\"#000000\" d=\"M273.4458,-260.7078C273.4458,-230.3436 273.4458,-169.3226 273.4458,-133.3464\"/>\n<polygon fill=\"#000000\" stroke=\"#000000\" points=\"276.9459,-133.0471 273.4458,-123.0471 269.9459,-133.0471 276.9459,-133.0471\"/>\n<text text-anchor=\"middle\" x=\"296.4458\" y=\"-188.3\" font-family=\"Times,serif\" font-size=\"14.00\" fill=\"#000000\">rdf:type</text>\n</g>\n<!-- 5 -->\n<g id=\"node6\" class=\"node\">\n<title>5</title>\n<ellipse fill=\"none\" stroke=\"#000000\" cx=\"179.4458\" cy=\"-192\" rx=\"58.4896\" ry=\"18\"/>\n<text text-anchor=\"middle\" x=\"179.4458\" y=\"-188.3\" font-family=\"Times,serif\" font-size=\"14.00\" fill=\"#000000\">ex:bertempat</text>\n</g>\n<!-- 5&#45;&gt;1 -->\n<g id=\"edge11\" class=\"edge\">\n<title>5&#45;&gt;1</title>\n<path fill=\"none\" stroke=\"#000000\" d=\"M136.9434,-179.5084C125.7974,-174.1116 115.0588,-166.5347 108.4458,-156 104.3024,-149.3996 102.8895,-141.3105 102.8193,-133.5363\"/>\n<polygon fill=\"#000000\" stroke=\"#000000\" points=\"106.3282,-133.489 103.4257,-123.2995 99.3404,-133.075 106.3282,-133.489\"/>\n<text text-anchor=\"middle\" x=\"137.4458\" y=\"-144.8\" font-family=\"Times,serif\" font-size=\"14.00\" fill=\"#000000\">rdfs:range</text>\n</g>\n<!-- 6 -->\n<g id=\"node7\" class=\"node\">\n<title>6</title>\n<ellipse fill=\"none\" stroke=\"#000000\" cx=\"468.4458\" cy=\"-105\" rx=\"55.7903\" ry=\"18\"/>\n<text text-anchor=\"middle\" x=\"468.4458\" y=\"-101.3\" font-family=\"Times,serif\" font-size=\"14.00\" fill=\"#000000\">rdf:Property</text>\n</g>\n<!-- 5&#45;&gt;6 -->\n<g id=\"edge15\" class=\"edge\">\n<title>5&#45;&gt;6</title>\n<path fill=\"none\" stroke=\"#000000\" d=\"M223.8381,-180.1408C232.9323,-177.9263 242.4683,-175.7586 251.4458,-174 306.9593,-163.1256 323.8632,-174.1357 377.4458,-156 397.9992,-149.0435 419.2465,-137.4274 436.0363,-127.0371\"/>\n<polygon fill=\"#000000\" stroke=\"#000000\" points=\"438.3055,-129.7423 444.8726,-121.4282 434.5541,-123.8324 438.3055,-129.7423\"/>\n<text text-anchor=\"middle\" x=\"435.4458\" y=\"-144.8\" font-family=\"Times,serif\" font-size=\"14.00\" fill=\"#000000\">rdf:type</text>\n</g>\n<!-- 5&#45;&gt;12 -->\n<g id=\"edge18\" class=\"edge\">\n<title>5&#45;&gt;12</title>\n<path fill=\"none\" stroke=\"#000000\" d=\"M178.9701,-173.7272C179.6089,-163.1314 182.0725,-150.1224 189.4458,-141 198.595,-129.6805 211.9733,-121.8507 225.375,-116.4633\"/>\n<polygon fill=\"#000000\" stroke=\"#000000\" points=\"226.8623,-119.6474 235.0775,-112.957 224.4832,-113.0641 226.8623,-119.6474\"/>\n<text text-anchor=\"middle\" x=\"224.4458\" y=\"-144.8\" font-family=\"Times,serif\" font-size=\"14.00\" fill=\"#000000\">rdfs:domain</text>\n</g>\n<!-- 7 -->\n<g id=\"node8\" class=\"node\">\n<title>7</title>\n<ellipse fill=\"none\" stroke=\"#000000\" cx=\"468.4458\" cy=\"-192\" rx=\"51.9908\" ry=\"18\"/>\n<text text-anchor=\"middle\" x=\"468.4458\" y=\"-188.3\" font-family=\"Times,serif\" font-size=\"14.00\" fill=\"#000000\">ex:menjual</text>\n</g>\n<!-- 7&#45;&gt;0 -->\n<g id=\"edge9\" class=\"edge\">\n<title>7&#45;&gt;0</title>\n<path fill=\"none\" stroke=\"#000000\" d=\"M512.7418,-182.5575C535.0707,-176.7451 562.0822,-168.0621 584.4458,-156 586.4828,-154.9013 603.101,-141.2097 618.6189,-128.2904\"/>\n<polygon fill=\"#000000\" stroke=\"#000000\" points=\"621.1123,-130.7684 626.5504,-121.6757 616.629,-125.3926 621.1123,-130.7684\"/>\n<text text-anchor=\"middle\" x=\"632.4458\" y=\"-144.8\" font-family=\"Times,serif\" font-size=\"14.00\" fill=\"#000000\">rdfs:range</text>\n</g>\n<!-- 7&#45;&gt;6 -->\n<g id=\"edge6\" class=\"edge\">\n<title>7&#45;&gt;6</title>\n<path fill=\"none\" stroke=\"#000000\" d=\"M468.4458,-173.9735C468.4458,-162.1918 468.4458,-146.5607 468.4458,-133.1581\"/>\n<polygon fill=\"#000000\" stroke=\"#000000\" points=\"471.9459,-133.0033 468.4458,-123.0034 464.9459,-133.0034 471.9459,-133.0033\"/>\n<text text-anchor=\"middle\" x=\"491.4458\" y=\"-144.8\" font-family=\"Times,serif\" font-size=\"14.00\" fill=\"#000000\">rdf:type</text>\n</g>\n<!-- 7&#45;&gt;12 -->\n<g id=\"edge3\" class=\"edge\">\n<title>7&#45;&gt;12</title>\n<path fill=\"none\" stroke=\"#000000\" d=\"M420.0038,-185.2268C379.4918,-178.8346 325.5124,-168.3969 307.4458,-156 298.4959,-149.8588 291.2804,-140.515 285.838,-131.4956\"/>\n<polygon fill=\"#000000\" stroke=\"#000000\" points=\"288.8868,-129.7762 280.988,-122.715 282.7593,-133.1607 288.8868,-129.7762\"/>\n<text text-anchor=\"middle\" x=\"342.4458\" y=\"-144.8\" font-family=\"Times,serif\" font-size=\"14.00\" fill=\"#000000\">rdfs:domain</text>\n</g>\n<!-- 9&#45;&gt;1 -->\n<g id=\"edge16\" class=\"edge\">\n<title>9&#45;&gt;1</title>\n<path fill=\"none\" stroke=\"#000000\" d=\"M39.0078,-173.871C35.5285,-163.5781 33.5285,-150.8281 39.4458,-141 44.5084,-132.5915 52.2667,-126.0441 60.7562,-120.9822\"/>\n<polygon fill=\"#000000\" stroke=\"#000000\" points=\"62.5669,-123.9844 69.7854,-116.2291 59.3062,-117.7902 62.5669,-123.9844\"/>\n<text text-anchor=\"middle\" x=\"62.4458\" y=\"-144.8\" font-family=\"Times,serif\" font-size=\"14.00\" fill=\"#000000\">rdf:type</text>\n</g>\n<!-- 10 -->\n<g id=\"node11\" class=\"node\">\n<title>10</title>\n<ellipse fill=\"none\" stroke=\"#000000\" cx=\"665.4458\" cy=\"-192\" rx=\"53.8905\" ry=\"18\"/>\n<text text-anchor=\"middle\" x=\"665.4458\" y=\"-188.3\" font-family=\"Times,serif\" font-size=\"14.00\" fill=\"#000000\">ex:berharga</text>\n</g>\n<!-- 10&#45;&gt;0 -->\n<g id=\"edge1\" class=\"edge\">\n<title>10&#45;&gt;0</title>\n<path fill=\"none\" stroke=\"#000000\" d=\"M667.5513,-173.8053C668.168,-163.9557 668.0855,-151.6571 665.4458,-141 664.6886,-137.9431 663.6193,-134.8596 662.3695,-131.8514\"/>\n<polygon fill=\"#000000\" stroke=\"#000000\" points=\"665.4171,-130.1131 657.9233,-122.6234 659.1109,-133.1515 665.4171,-130.1131\"/>\n<text text-anchor=\"middle\" x=\"703.4458\" y=\"-144.8\" font-family=\"Times,serif\" font-size=\"14.00\" fill=\"#000000\">rdfs:domain</text>\n</g>\n<!-- 10&#45;&gt;2 -->\n<g id=\"edge17\" class=\"edge\">\n<title>10&#45;&gt;2</title>\n<path fill=\"none\" stroke=\"#000000\" d=\"M706.0021,-179.9634C713.443,-177.8832 721.1596,-175.81 728.4458,-174 765.9223,-164.6901 781.1964,-177.2399 813.4458,-156 822.6101,-149.9643 830.1566,-140.7252 835.9315,-131.7607\"/>\n<polygon fill=\"#000000\" stroke=\"#000000\" points=\"839.0258,-133.4045 841.1102,-123.0167 833.0028,-129.8373 839.0258,-133.4045\"/>\n<text text-anchor=\"middle\" x=\"856.4458\" y=\"-144.8\" font-family=\"Times,serif\" font-size=\"14.00\" fill=\"#000000\">rdfs:range</text>\n</g>\n<!-- 10&#45;&gt;6 -->\n<g id=\"edge4\" class=\"edge\">\n<title>10&#45;&gt;6</title>\n<path fill=\"none\" stroke=\"#000000\" d=\"M617.3832,-183.6164C591.841,-177.9868 560.4394,-169.1464 534.4458,-156 524.845,-151.1444 523.9389,-147.6046 515.4458,-141 509.9944,-136.7607 504.1671,-132.267 498.5366,-127.9443\"/>\n<polygon fill=\"#000000\" stroke=\"#000000\" points=\"500.5616,-125.0866 490.4949,-121.783 496.3043,-130.6432 500.5616,-125.0866\"/>\n<text text-anchor=\"middle\" x=\"557.4458\" y=\"-144.8\" font-family=\"Times,serif\" font-size=\"14.00\" fill=\"#000000\">rdf:type</text>\n</g>\n<!-- 11&#45;&gt;0 -->\n<g id=\"edge5\" class=\"edge\">\n<title>11&#45;&gt;0</title>\n<path fill=\"none\" stroke=\"#000000\" d=\"M785.3126,-174.6191C773.9358,-163.8249 758.2368,-150.2869 742.4458,-141 727.8337,-132.4065 710.8078,-125.2246 695.1861,-119.5934\"/>\n<polygon fill=\"#000000\" stroke=\"#000000\" points=\"696.2698,-116.2647 685.675,-116.2888 693.9724,-122.877 696.2698,-116.2647\"/>\n<text text-anchor=\"middle\" x=\"786.4458\" y=\"-144.8\" font-family=\"Times,serif\" font-size=\"14.00\" fill=\"#000000\">rdf:type</text>\n</g>\n<!-- 11&#45;&gt;3 -->\n<g id=\"edge8\" class=\"edge\">\n<title>11&#45;&gt;3</title>\n<path fill=\"none\" stroke=\"#000000\" d=\"M839.3833,-177.017C854.8923,-170.6481 873.092,-163.0719 889.4458,-156 910.7641,-146.7813 934.1881,-136.2726 954.1548,-127.1994\"/>\n<polygon fill=\"#000000\" stroke=\"#000000\" points=\"955.7091,-130.3375 963.359,-123.0075 952.8077,-123.9671 955.7091,-130.3375\"/>\n<text text-anchor=\"middle\" x=\"953.9458\" y=\"-144.8\" font-family=\"Times,serif\" font-size=\"14.00\" fill=\"#000000\">ex:berharga</text>\n</g>\n<!-- 12&#45;&gt;8 -->\n<g id=\"edge10\" class=\"edge\">\n<title>12&#45;&gt;8</title>\n<path fill=\"none\" stroke=\"#000000\" d=\"M273.4458,-86.9735C273.4458,-75.1918 273.4458,-59.5607 273.4458,-46.1581\"/>\n<polygon fill=\"#000000\" stroke=\"#000000\" points=\"276.9459,-46.0033 273.4458,-36.0034 269.9459,-46.0034 276.9459,-46.0033\"/>\n<text text-anchor=\"middle\" x=\"296.4458\" y=\"-57.8\" font-family=\"Times,serif\" font-size=\"14.00\" fill=\"#000000\">rdf:type</text>\n</g>\n</g>\n</svg>\n"
          },
          "metadata": {}
        }
      ]
    },
    {
      "cell_type": "code",
      "metadata": {
        "colab": {
          "base_uri": "https://localhost:8080/",
          "height": 448
        },
        "id": "gCXs3vTSx1pM",
        "outputId": "a48d4910-c2bf-4a21-ac77-9eb84b9f317b"
      },
      "source": [
        "%%rdf turtle\n",
        "## Namespace\n",
        "@prefix rdfs: <http://www.w3.org/2000/01/rdf-schema#> .\n",
        "@prefix rdf: <http://www.w3.org/1999/02/22-rdf-syntax-ns#> .\n",
        "@prefix xsd: <http://www.w3.org/2001/XMLSchema#> .\n",
        "@prefix ex: <http://example.com/> .\n",
        "\n",
        "## Class\n",
        "ex:Toko a rdfs:Class .\n",
        "ex:Lokasi a rdfs:Class .\n",
        "ex:Produk a rdfs:Class .\n",
        "\n",
        "## Properties\n",
        "ex:bertempat a rdf:Property .\n",
        "ex:bertempat rdfs:domain ex:Toko .\n",
        "ex:bertempat rdfs:range ex:Lokasi .\n",
        "\n",
        "ex:menjual a rdf:Property .\n",
        "ex:menjual rdfs:domain ex:Toko .\n",
        "ex:menjual rdfs:range ex:Produk .\n",
        "\n",
        "ex:berharga a rdf:Property .\n",
        "ex:berharga rdfs:domain ex:Produk .\n",
        "ex:berharga rdfs:range xsd:currency .\n",
        "\n",
        "## Data 3\n",
        "ex:Computindo a ex:Toko .\n",
        "ex:Jakarta a ex:Lokasi .\n",
        "ex:Headphone a ex:Produk .\n",
        "ex:SoundSquare ex:bertempat ex:Jakarta .\n",
        "ex:SoundSquare ex:menjual ex:Headphone .\n",
        "ex:Headphone ex:berharga \"459100\"^^xsd:currency ."
      ],
      "execution_count": 82,
      "outputs": [
        {
          "output_type": "display_data",
          "data": {
            "text/plain": [
              "<graphviz.dot.Digraph at 0x7f3f6c453950>"
            ],
            "image/svg+xml": "<?xml version=\"1.0\" encoding=\"UTF-8\" standalone=\"no\"?>\n<!DOCTYPE svg PUBLIC \"-//W3C//DTD SVG 1.1//EN\"\n \"http://www.w3.org/Graphics/SVG/1.1/DTD/svg11.dtd\">\n<!-- Generated by graphviz version 2.40.1 (20161225.0304)\n -->\n<!-- Title: %3 Pages: 1 -->\n<svg width=\"1079pt\" height=\"305pt\"\n viewBox=\"0.00 0.00 1078.95 305.00\" xmlns=\"http://www.w3.org/2000/svg\" xmlns:xlink=\"http://www.w3.org/1999/xlink\">\n<g id=\"graph0\" class=\"graph\" transform=\"scale(1 1) rotate(0) translate(4 301)\">\n<title>%3</title>\n<polygon fill=\"#ffffff\" stroke=\"transparent\" points=\"-4,4 -4,-301 1074.9458,-301 1074.9458,4 -4,4\"/>\n<!-- 0 -->\n<g id=\"node1\" class=\"node\">\n<title>0</title>\n<ellipse fill=\"none\" stroke=\"#000000\" cx=\"116.4458\" cy=\"-105\" rx=\"47.3916\" ry=\"18\"/>\n<text text-anchor=\"middle\" x=\"116.4458\" y=\"-101.3\" font-family=\"Times,serif\" font-size=\"14.00\" fill=\"#000000\">ex:Lokasi</text>\n</g>\n<!-- 9 -->\n<g id=\"node10\" class=\"node\">\n<title>9</title>\n<ellipse fill=\"none\" stroke=\"#000000\" cx=\"290.4458\" cy=\"-18\" rx=\"46.5926\" ry=\"18\"/>\n<text text-anchor=\"middle\" x=\"290.4458\" y=\"-14.3\" font-family=\"Times,serif\" font-size=\"14.00\" fill=\"#000000\">rdfs:Class</text>\n</g>\n<!-- 0&#45;&gt;9 -->\n<g id=\"edge12\" class=\"edge\">\n<title>0&#45;&gt;9</title>\n<path fill=\"none\" stroke=\"#000000\" d=\"M145.1784,-90.6337C174.5212,-75.9623 220.2302,-53.1078 252.527,-36.9594\"/>\n<polygon fill=\"#000000\" stroke=\"#000000\" points=\"254.2915,-39.9903 261.6705,-32.3876 251.161,-33.7293 254.2915,-39.9903\"/>\n<text text-anchor=\"middle\" x=\"237.4458\" y=\"-57.8\" font-family=\"Times,serif\" font-size=\"14.00\" fill=\"#000000\">rdf:type</text>\n</g>\n<!-- 1 -->\n<g id=\"node2\" class=\"node\">\n<title>1</title>\n<ellipse fill=\"none\" stroke=\"#000000\" cx=\"833.4458\" cy=\"-105\" rx=\"58.4896\" ry=\"18\"/>\n<text text-anchor=\"middle\" x=\"833.4458\" y=\"-101.3\" font-family=\"Times,serif\" font-size=\"14.00\" fill=\"#000000\">xsd:currency</text>\n</g>\n<!-- 2 -->\n<g id=\"node3\" class=\"node\">\n<title>2</title>\n<polygon fill=\"none\" stroke=\"#000000\" points=\"1070.9458,-123 909.9458,-123 909.9458,-87 1070.9458,-87 1070.9458,-123\"/>\n<text text-anchor=\"middle\" x=\"990.4458\" y=\"-101.3\" font-family=\"Times,serif\" font-size=\"14.00\" fill=\"#000000\">&quot;459100&quot;^^xsd:currency</text>\n</g>\n<!-- 3 -->\n<g id=\"node4\" class=\"node\">\n<title>3</title>\n<ellipse fill=\"none\" stroke=\"#000000\" cx=\"480.4458\" cy=\"-279\" rx=\"72.5877\" ry=\"18\"/>\n<text text-anchor=\"middle\" x=\"480.4458\" y=\"-275.3\" font-family=\"Times,serif\" font-size=\"14.00\" fill=\"#000000\">ex:SoundSquare</text>\n</g>\n<!-- 5 -->\n<g id=\"node6\" class=\"node\">\n<title>5</title>\n<ellipse fill=\"none\" stroke=\"#000000\" cx=\"914.4458\" cy=\"-192\" rx=\"64.9885\" ry=\"18\"/>\n<text text-anchor=\"middle\" x=\"914.4458\" y=\"-188.3\" font-family=\"Times,serif\" font-size=\"14.00\" fill=\"#000000\">ex:Headphone</text>\n</g>\n<!-- 3&#45;&gt;5 -->\n<g id=\"edge9\" class=\"edge\">\n<title>3&#45;&gt;5</title>\n<path fill=\"none\" stroke=\"#000000\" d=\"M537.1837,-267.6263C618.4352,-251.3385 767.4156,-221.4738 851.8083,-204.5564\"/>\n<polygon fill=\"#000000\" stroke=\"#000000\" points=\"852.654,-207.9565 861.771,-202.5592 851.2781,-201.0931 852.654,-207.9565\"/>\n<text text-anchor=\"middle\" x=\"755.4458\" y=\"-231.8\" font-family=\"Times,serif\" font-size=\"14.00\" fill=\"#000000\">ex:menjual</text>\n</g>\n<!-- 10 -->\n<g id=\"node11\" class=\"node\">\n<title>10</title>\n<ellipse fill=\"none\" stroke=\"#000000\" cx=\"47.4458\" cy=\"-192\" rx=\"47.3916\" ry=\"18\"/>\n<text text-anchor=\"middle\" x=\"47.4458\" y=\"-188.3\" font-family=\"Times,serif\" font-size=\"14.00\" fill=\"#000000\">ex:Jakarta</text>\n</g>\n<!-- 3&#45;&gt;10 -->\n<g id=\"edge7\" class=\"edge\">\n<title>3&#45;&gt;10</title>\n<path fill=\"none\" stroke=\"#000000\" d=\"M417.3984,-269.8859C342.2915,-258.4646 213.2937,-237.0624 104.4458,-210 100.6456,-209.0552 96.7273,-207.9978 92.8082,-206.8816\"/>\n<polygon fill=\"#000000\" stroke=\"#000000\" points=\"93.714,-203.4996 83.1318,-204.0164 91.7265,-210.2116 93.714,-203.4996\"/>\n<text text-anchor=\"middle\" x=\"295.4458\" y=\"-231.8\" font-family=\"Times,serif\" font-size=\"14.00\" fill=\"#000000\">ex:bertempat</text>\n</g>\n<!-- 4 -->\n<g id=\"node5\" class=\"node\">\n<title>4</title>\n<ellipse fill=\"none\" stroke=\"#000000\" cx=\"171.4458\" cy=\"-192\" rx=\"58.4896\" ry=\"18\"/>\n<text text-anchor=\"middle\" x=\"171.4458\" y=\"-188.3\" font-family=\"Times,serif\" font-size=\"14.00\" fill=\"#000000\">ex:bertempat</text>\n</g>\n<!-- 4&#45;&gt;0 -->\n<g id=\"edge16\" class=\"edge\">\n<title>4&#45;&gt;0</title>\n<path fill=\"none\" stroke=\"#000000\" d=\"M138.3567,-177.072C130.0795,-171.6671 122.2099,-164.6958 117.4458,-156 113.7013,-149.1653 112.413,-141.0031 112.3347,-133.2337\"/>\n<polygon fill=\"#000000\" stroke=\"#000000\" points=\"115.8405,-133.2112 112.8609,-123.044 108.8498,-132.8502 115.8405,-133.2112\"/>\n<text text-anchor=\"middle\" x=\"146.4458\" y=\"-144.8\" font-family=\"Times,serif\" font-size=\"14.00\" fill=\"#000000\">rdfs:range</text>\n</g>\n<!-- 6 -->\n<g id=\"node7\" class=\"node\">\n<title>6</title>\n<ellipse fill=\"none\" stroke=\"#000000\" cx=\"521.4458\" cy=\"-105\" rx=\"55.7903\" ry=\"18\"/>\n<text text-anchor=\"middle\" x=\"521.4458\" y=\"-101.3\" font-family=\"Times,serif\" font-size=\"14.00\" fill=\"#000000\">rdf:Property</text>\n</g>\n<!-- 4&#45;&gt;6 -->\n<g id=\"edge14\" class=\"edge\">\n<title>4&#45;&gt;6</title>\n<path fill=\"none\" stroke=\"#000000\" d=\"M214.9256,-179.7599C222.7288,-177.723 230.8076,-175.7173 238.4458,-174 282.0779,-164.19 296.6858,-174.4017 337.4458,-156 347.2516,-151.573 346.7188,-145.5977 356.4458,-141 388.1385,-126.0195 426.2179,-117.1795 457.8056,-112.0119\"/>\n<polygon fill=\"#000000\" stroke=\"#000000\" points=\"458.4711,-115.4506 467.8169,-110.46 457.3988,-108.5332 458.4711,-115.4506\"/>\n<text text-anchor=\"middle\" x=\"379.4458\" y=\"-144.8\" font-family=\"Times,serif\" font-size=\"14.00\" fill=\"#000000\">rdf:type</text>\n</g>\n<!-- 13 -->\n<g id=\"node14\" class=\"node\">\n<title>13</title>\n<ellipse fill=\"none\" stroke=\"#000000\" cx=\"290.4458\" cy=\"-105\" rx=\"42.4939\" ry=\"18\"/>\n<text text-anchor=\"middle\" x=\"290.4458\" y=\"-101.3\" font-family=\"Times,serif\" font-size=\"14.00\" fill=\"#000000\">ex:Toko</text>\n</g>\n<!-- 4&#45;&gt;13 -->\n<g id=\"edge17\" class=\"edge\">\n<title>4&#45;&gt;13</title>\n<path fill=\"none\" stroke=\"#000000\" d=\"M183.4138,-174.2609C191.2808,-163.5964 202.3347,-150.3286 214.4458,-141 224.7589,-133.0563 237.1076,-126.2789 248.8228,-120.8191\"/>\n<polygon fill=\"#000000\" stroke=\"#000000\" points=\"250.3152,-123.986 258.0314,-116.7258 247.4718,-117.5895 250.3152,-123.986\"/>\n<text text-anchor=\"middle\" x=\"249.4458\" y=\"-144.8\" font-family=\"Times,serif\" font-size=\"14.00\" fill=\"#000000\">rdfs:domain</text>\n</g>\n<!-- 5&#45;&gt;2 -->\n<g id=\"edge11\" class=\"edge\">\n<title>5&#45;&gt;2</title>\n<path fill=\"none\" stroke=\"#000000\" d=\"M942.0846,-175.6192C949.9574,-170.0716 958.1075,-163.3873 964.4458,-156 970.3996,-149.0608 975.432,-140.5225 979.4363,-132.4306\"/>\n<polygon fill=\"#000000\" stroke=\"#000000\" points=\"982.656,-133.8064 983.6584,-123.2591 976.2974,-130.8792 982.656,-133.8064\"/>\n<text text-anchor=\"middle\" x=\"1006.9458\" y=\"-144.8\" font-family=\"Times,serif\" font-size=\"14.00\" fill=\"#000000\">ex:berharga</text>\n</g>\n<!-- 12 -->\n<g id=\"node13\" class=\"node\">\n<title>12</title>\n<ellipse fill=\"none\" stroke=\"#000000\" cx=\"676.4458\" cy=\"-105\" rx=\"50.0912\" ry=\"18\"/>\n<text text-anchor=\"middle\" x=\"676.4458\" y=\"-101.3\" font-family=\"Times,serif\" font-size=\"14.00\" fill=\"#000000\">ex:Produk</text>\n</g>\n<!-- 5&#45;&gt;12 -->\n<g id=\"edge13\" class=\"edge\">\n<title>5&#45;&gt;12</title>\n<path fill=\"none\" stroke=\"#000000\" d=\"M904.9944,-174.0343C898.0741,-162.7135 887.6077,-148.8079 874.4458,-141 832.5938,-116.1724 814.3106,-131.7729 766.4458,-123 754.5683,-120.8231 741.8363,-118.3576 729.7964,-115.9653\"/>\n<polygon fill=\"#000000\" stroke=\"#000000\" points=\"730.372,-112.5112 719.8796,-113.9809 728.9984,-119.3751 730.372,-112.5112\"/>\n<text text-anchor=\"middle\" x=\"914.4458\" y=\"-144.8\" font-family=\"Times,serif\" font-size=\"14.00\" fill=\"#000000\">rdf:type</text>\n</g>\n<!-- 7 -->\n<g id=\"node8\" class=\"node\">\n<title>7</title>\n<ellipse fill=\"none\" stroke=\"#000000\" cx=\"521.4458\" cy=\"-192\" rx=\"51.9908\" ry=\"18\"/>\n<text text-anchor=\"middle\" x=\"521.4458\" y=\"-188.3\" font-family=\"Times,serif\" font-size=\"14.00\" fill=\"#000000\">ex:menjual</text>\n</g>\n<!-- 7&#45;&gt;6 -->\n<g id=\"edge6\" class=\"edge\">\n<title>7&#45;&gt;6</title>\n<path fill=\"none\" stroke=\"#000000\" d=\"M521.4458,-173.9735C521.4458,-162.1918 521.4458,-146.5607 521.4458,-133.1581\"/>\n<polygon fill=\"#000000\" stroke=\"#000000\" points=\"524.9459,-133.0033 521.4458,-123.0034 517.9459,-133.0034 524.9459,-133.0033\"/>\n<text text-anchor=\"middle\" x=\"544.4458\" y=\"-144.8\" font-family=\"Times,serif\" font-size=\"14.00\" fill=\"#000000\">rdf:type</text>\n</g>\n<!-- 7&#45;&gt;12 -->\n<g id=\"edge8\" class=\"edge\">\n<title>7&#45;&gt;12</title>\n<path fill=\"none\" stroke=\"#000000\" d=\"M543.1394,-175.3548C559.8799,-162.6708 581.763,-146.4816 591.4458,-141 604.0148,-133.8845 618.2688,-127.3171 631.4636,-121.794\"/>\n<polygon fill=\"#000000\" stroke=\"#000000\" points=\"632.9099,-124.984 640.8451,-117.9638 630.264,-118.5033 632.9099,-124.984\"/>\n<text text-anchor=\"middle\" x=\"620.4458\" y=\"-144.8\" font-family=\"Times,serif\" font-size=\"14.00\" fill=\"#000000\">rdfs:range</text>\n</g>\n<!-- 7&#45;&gt;13 -->\n<g id=\"edge3\" class=\"edge\">\n<title>7&#45;&gt;13</title>\n<path fill=\"none\" stroke=\"#000000\" d=\"M491.0977,-177.3787C468.1415,-166.6048 435.6848,-151.9779 406.4458,-141 383.5244,-132.3941 357.5323,-124.1889 335.9704,-117.7914\"/>\n<polygon fill=\"#000000\" stroke=\"#000000\" points=\"336.67,-114.3493 326.0891,-114.8935 334.7,-121.0664 336.67,-114.3493\"/>\n<text text-anchor=\"middle\" x=\"477.4458\" y=\"-144.8\" font-family=\"Times,serif\" font-size=\"14.00\" fill=\"#000000\">rdfs:domain</text>\n</g>\n<!-- 8 -->\n<g id=\"node9\" class=\"node\">\n<title>8</title>\n<ellipse fill=\"none\" stroke=\"#000000\" cx=\"317.4458\" cy=\"-192\" rx=\"69.5877\" ry=\"18\"/>\n<text text-anchor=\"middle\" x=\"317.4458\" y=\"-188.3\" font-family=\"Times,serif\" font-size=\"14.00\" fill=\"#000000\">ex:Computindo</text>\n</g>\n<!-- 8&#45;&gt;13 -->\n<g id=\"edge10\" class=\"edge\">\n<title>8&#45;&gt;13</title>\n<path fill=\"none\" stroke=\"#000000\" d=\"M301.3289,-174.1506C297.3406,-168.6993 293.5963,-162.4346 291.4458,-156 289.0799,-148.9211 288.1634,-140.9754 287.9984,-133.5011\"/>\n<polygon fill=\"#000000\" stroke=\"#000000\" points=\"291.4999,-133.4533 288.1929,-123.3878 284.5012,-133.3187 291.4999,-133.4533\"/>\n<text text-anchor=\"middle\" x=\"314.4458\" y=\"-144.8\" font-family=\"Times,serif\" font-size=\"14.00\" fill=\"#000000\">rdf:type</text>\n</g>\n<!-- 10&#45;&gt;0 -->\n<g id=\"edge5\" class=\"edge\">\n<title>10&#45;&gt;0</title>\n<path fill=\"none\" stroke=\"#000000\" d=\"M50.1323,-173.6504C52.3612,-163.2839 56.3612,-150.5339 63.4458,-141 67.8245,-135.1074 73.4683,-129.8604 79.4337,-125.3177\"/>\n<polygon fill=\"#000000\" stroke=\"#000000\" points=\"81.4804,-128.1574 87.6791,-119.5652 77.4751,-122.4165 81.4804,-128.1574\"/>\n<text text-anchor=\"middle\" x=\"86.4458\" y=\"-144.8\" font-family=\"Times,serif\" font-size=\"14.00\" fill=\"#000000\">rdf:type</text>\n</g>\n<!-- 11 -->\n<g id=\"node12\" class=\"node\">\n<title>11</title>\n<ellipse fill=\"none\" stroke=\"#000000\" cx=\"740.4458\" cy=\"-192\" rx=\"53.8905\" ry=\"18\"/>\n<text text-anchor=\"middle\" x=\"740.4458\" y=\"-188.3\" font-family=\"Times,serif\" font-size=\"14.00\" fill=\"#000000\">ex:berharga</text>\n</g>\n<!-- 11&#45;&gt;1 -->\n<g id=\"edge15\" class=\"edge\">\n<title>11&#45;&gt;1</title>\n<path fill=\"none\" stroke=\"#000000\" d=\"M771.9164,-177.2161C782.0693,-171.5022 792.8974,-164.3189 801.4458,-156 808.5974,-149.0403 814.8654,-140.1788 819.9141,-131.8018\"/>\n<polygon fill=\"#000000\" stroke=\"#000000\" points=\"823.0087,-133.44 824.8981,-123.015 816.9199,-129.9864 823.0087,-133.44\"/>\n<text text-anchor=\"middle\" x=\"841.4458\" y=\"-144.8\" font-family=\"Times,serif\" font-size=\"14.00\" fill=\"#000000\">rdfs:range</text>\n</g>\n<!-- 11&#45;&gt;6 -->\n<g id=\"edge4\" class=\"edge\">\n<title>11&#45;&gt;6</title>\n<path fill=\"none\" stroke=\"#000000\" d=\"M707.775,-177.4137C695.1699,-171.3389 680.8318,-163.8688 668.4458,-156 659.3646,-150.2307 659.0321,-145.8843 649.4458,-141 627.8557,-129.9996 602.4511,-121.9677 579.9898,-116.3194\"/>\n<polygon fill=\"#000000\" stroke=\"#000000\" points=\"580.7753,-112.9086 570.2334,-113.9666 579.1342,-119.7135 580.7753,-112.9086\"/>\n<text text-anchor=\"middle\" x=\"691.4458\" y=\"-144.8\" font-family=\"Times,serif\" font-size=\"14.00\" fill=\"#000000\">rdf:type</text>\n</g>\n<!-- 11&#45;&gt;12 -->\n<g id=\"edge1\" class=\"edge\">\n<title>11&#45;&gt;12</title>\n<path fill=\"none\" stroke=\"#000000\" d=\"M734.9348,-173.9542C731.2644,-163.689 725.7644,-150.939 718.4458,-141 715.1003,-136.4567 711.0783,-132.1027 706.8666,-128.0904\"/>\n<polygon fill=\"#000000\" stroke=\"#000000\" points=\"708.9871,-125.2927 699.1856,-121.2702 704.3394,-130.527 708.9871,-125.2927\"/>\n<text text-anchor=\"middle\" x=\"762.4458\" y=\"-144.8\" font-family=\"Times,serif\" font-size=\"14.00\" fill=\"#000000\">rdfs:domain</text>\n</g>\n<!-- 12&#45;&gt;9 -->\n<g id=\"edge2\" class=\"edge\">\n<title>12&#45;&gt;9</title>\n<path fill=\"none\" stroke=\"#000000\" d=\"M634.0329,-95.4406C562.3412,-79.2821 417.5289,-46.6431 340.8015,-29.3496\"/>\n<polygon fill=\"#000000\" stroke=\"#000000\" points=\"341.4161,-25.9004 330.8913,-27.1159 339.877,-32.7291 341.4161,-25.9004\"/>\n<text text-anchor=\"middle\" x=\"530.4458\" y=\"-57.8\" font-family=\"Times,serif\" font-size=\"14.00\" fill=\"#000000\">rdf:type</text>\n</g>\n<!-- 13&#45;&gt;9 -->\n<g id=\"edge18\" class=\"edge\">\n<title>13&#45;&gt;9</title>\n<path fill=\"none\" stroke=\"#000000\" d=\"M290.4458,-86.9735C290.4458,-75.1918 290.4458,-59.5607 290.4458,-46.1581\"/>\n<polygon fill=\"#000000\" stroke=\"#000000\" points=\"293.9459,-46.0033 290.4458,-36.0034 286.9459,-46.0034 293.9459,-46.0033\"/>\n<text text-anchor=\"middle\" x=\"313.4458\" y=\"-57.8\" font-family=\"Times,serif\" font-size=\"14.00\" fill=\"#000000\">rdf:type</text>\n</g>\n</g>\n</svg>\n"
          },
          "metadata": {}
        }
      ]
    },
    {
      "cell_type": "markdown",
      "metadata": {
        "id": "OOh_wHq1BSmT"
      },
      "source": [
        "## Vocabulary Perpanjangan dari Vocabulary Populer\n",
        "\n",
        "### Namespace\n",
        "\n",
        "* rdfs: <http://www.w3.org/2000/01/rdf-schema#>\n",
        "* rdf: <http://www.w3.org/1999/02/22-rdf-syntax-ns#>\n",
        "* xsd: <http://www.w3.org/2001/XMLSchema#>\n",
        "* dbpedia: <https://dbpedia.org/resource/>\n",
        "* ex: <http://example.com/>\n",
        "* gr: <http://www.heppnetz.de/ontologies/goodrelations/v1#> \n",
        "* schema: <https://schema.org/> \n",
        "\n",
        "### Kelas dan Properti\n",
        "* BusinessEntity\n",
        "  * BusinessEntity memiliki Location\n",
        "  * BusinessEntity menawarkan (offers) Offering\n",
        "* Location\n",
        "* Offering\n",
        "  * Offering bernama (name)\n",
        "  * Offering memiliki spesifikasiharga (hasPriceSpecification) UnitPriceSpecification\n",
        "* UnitPriceSpecification\n",
        "  * memiliki mata uang (hasCurrency) dengan nilai xsd:currency\n",
        "  * UnitPriceSpecification memiliki nilai harga (hasCurrencyValue dengan nilai numerik\n",
        "\n",
        "\n",
        "### Data\n",
        "**Data 1**\n",
        "\n",
        "GudangGrosir adalah toko. \n",
        "GudangGrosir bertempat di Jakarta. \n",
        "GudangGrosir menjual Headphone. \n",
        "Headphone berharga 6800. \n",
        "\n",
        "**Data 2**\n",
        "\n",
        "SoundSquare adalah toko. \n",
        "SoundSquare bertempat di Jakarta. \n",
        "SoundSquare menjual Headphone. \n",
        "Headphone berharga 83200. \n",
        "\n",
        "**Data 3**\n",
        "\n",
        "Computindo adalah toko. \n",
        "Computindo bertempat di Jakarta. \n",
        "Computindo menjual Headphone. \n",
        "Headphone berharga 459100. "
      ]
    },
    {
      "cell_type": "code",
      "metadata": {
        "id": "Vek0ZSFnBdj9",
        "colab": {
          "base_uri": "https://localhost:8080/",
          "height": 428
        },
        "outputId": "1b114a42-29b8-49be-9589-ed3809855b6f"
      },
      "source": [
        "%%rdf turtle\n",
        "# Data 1\n",
        "\n",
        "## Namespace\n",
        "@prefix rdfs: <http://www.w3.org/2000/01/rdf-schema#> .\n",
        "@prefix rdf: <http://www.w3.org/1999/02/22-rdf-syntax-ns#> .\n",
        "@prefix xsd: <http://www.w3.org/2001/XMLSchema#> .\n",
        "@prefix dbpedia: <https://dbpedia.org/resource/> .\n",
        "@prefix ex: <http://example.com/> .\n",
        "@prefix gr: <http://www.heppnetz.de/ontologies/goodrelations/v1#> .\n",
        "@prefix schema: <https://schema.org/> .\n",
        "\n",
        "## Class\n",
        "\n",
        "## Properties\n",
        "\n",
        "## Data 1\n",
        "ex:GudangGrosir a gr:BusinessEntity .\n",
        "dbpedia:Jakarta a gr:Location .\n",
        "ex:GudangGrosir schema:location dbpedia:Jakarta .\n",
        "\n",
        "ex:Harga a gr:UnitPriceSpecification .\n",
        "ex:Harga gr:hasCurrency \"IDR\"^^xsd:string .\n",
        "ex:Harga gr:hasCurrencyValue \"6800\"^^xsd:integer .\n",
        "\n",
        "ex:Headphone a gr:Offering .\n",
        "ex:Headphone gr:name \"TaffSTUDIO Splitter Audio Shape U 3.5mm ke Headphone & Mic - K0650\" .\n",
        "ex:Headphone gr:hasPriceSpecification ex:Harga .\n",
        "\n",
        "ex:GudangGrosir gr:offers ex:Headphone ."
      ],
      "execution_count": 83,
      "outputs": [
        {
          "output_type": "display_data",
          "data": {
            "text/plain": [
              "<graphviz.dot.Digraph at 0x7f3f6c464a10>"
            ],
            "image/svg+xml": "<?xml version=\"1.0\" encoding=\"UTF-8\" standalone=\"no\"?>\n<!DOCTYPE svg PUBLIC \"-//W3C//DTD SVG 1.1//EN\"\n \"http://www.w3.org/Graphics/SVG/1.1/DTD/svg11.dtd\">\n<!-- Generated by graphviz version 2.40.1 (20161225.0304)\n -->\n<!-- Title: %3 Pages: 1 -->\n<svg width=\"957pt\" height=\"305pt\"\n viewBox=\"0.00 0.00 957.29 305.00\" xmlns=\"http://www.w3.org/2000/svg\" xmlns:xlink=\"http://www.w3.org/1999/xlink\">\n<g id=\"graph0\" class=\"graph\" transform=\"scale(1 1) rotate(0) translate(4 301)\">\n<title>%3</title>\n<polygon fill=\"#ffffff\" stroke=\"transparent\" points=\"-4,4 -4,-301 953.286,-301 953.286,4 -4,4\"/>\n<!-- 0 -->\n<g id=\"node1\" class=\"node\">\n<title>0</title>\n<ellipse fill=\"none\" stroke=\"#000000\" cx=\"294.6407\" cy=\"-105\" rx=\"44.393\" ry=\"18\"/>\n<text text-anchor=\"middle\" x=\"294.6407\" y=\"-101.3\" font-family=\"Times,serif\" font-size=\"14.00\" fill=\"#000000\">ex:Harga</text>\n</g>\n<!-- 2 -->\n<g id=\"node3\" class=\"node\">\n<title>2</title>\n<ellipse fill=\"none\" stroke=\"#000000\" cx=\"104.6407\" cy=\"-18\" rx=\"104.7816\" ry=\"18\"/>\n<text text-anchor=\"middle\" x=\"104.6407\" y=\"-14.3\" font-family=\"Times,serif\" font-size=\"14.00\" fill=\"#000000\">gr:UnitPriceSpecification</text>\n</g>\n<!-- 0&#45;&gt;2 -->\n<g id=\"edge7\" class=\"edge\">\n<title>0&#45;&gt;2</title>\n<path fill=\"none\" stroke=\"#000000\" d=\"M264.9532,-91.4063C234.3903,-77.4117 186.3473,-55.413 150.8168,-39.1438\"/>\n<polygon fill=\"#000000\" stroke=\"#000000\" points=\"152.1621,-35.9103 141.6127,-34.9293 149.2477,-42.2749 152.1621,-35.9103\"/>\n<text text-anchor=\"middle\" x=\"234.6407\" y=\"-57.8\" font-family=\"Times,serif\" font-size=\"14.00\" fill=\"#000000\">rdf:type</text>\n</g>\n<!-- 3 -->\n<g id=\"node4\" class=\"node\">\n<title>3</title>\n<polygon fill=\"none\" stroke=\"#000000\" points=\"362.1407,-36 227.1407,-36 227.1407,0 362.1407,0 362.1407,-36\"/>\n<text text-anchor=\"middle\" x=\"294.6407\" y=\"-14.3\" font-family=\"Times,serif\" font-size=\"14.00\" fill=\"#000000\">&quot;6800&quot;^^xsd:integer</text>\n</g>\n<!-- 0&#45;&gt;3 -->\n<g id=\"edge10\" class=\"edge\">\n<title>0&#45;&gt;3</title>\n<path fill=\"none\" stroke=\"#000000\" d=\"M294.6407,-86.9735C294.6407,-75.1918 294.6407,-59.5607 294.6407,-46.1581\"/>\n<polygon fill=\"#000000\" stroke=\"#000000\" points=\"298.1408,-46.0033 294.6407,-36.0034 291.1408,-46.0034 298.1408,-46.0033\"/>\n<text text-anchor=\"middle\" x=\"355.1407\" y=\"-57.8\" font-family=\"Times,serif\" font-size=\"14.00\" fill=\"#000000\">gr:hasCurrencyValue</text>\n</g>\n<!-- 7 -->\n<g id=\"node8\" class=\"node\">\n<title>7</title>\n<polygon fill=\"none\" stroke=\"#000000\" points=\"503.1407,-36 380.1407,-36 380.1407,0 503.1407,0 503.1407,-36\"/>\n<text text-anchor=\"middle\" x=\"441.6407\" y=\"-14.3\" font-family=\"Times,serif\" font-size=\"14.00\" fill=\"#000000\">&quot;IDR&quot;^^xsd:string</text>\n</g>\n<!-- 0&#45;&gt;7 -->\n<g id=\"edge3\" class=\"edge\">\n<title>0&#45;&gt;7</title>\n<path fill=\"none\" stroke=\"#000000\" d=\"M328.512,-93.2871C335.158,-91.1086 342.0971,-88.9172 348.6407,-87 379.8812,-77.8466 394.8666,-90.1187 419.6407,-69 426.603,-63.065 431.4264,-54.5243 434.7401,-46.1245\"/>\n<polygon fill=\"#000000\" stroke=\"#000000\" points=\"438.1089,-47.087 437.9742,-36.493 431.473,-44.8587 438.1089,-47.087\"/>\n<text text-anchor=\"middle\" x=\"474.6407\" y=\"-57.8\" font-family=\"Times,serif\" font-size=\"14.00\" fill=\"#000000\">gr:hasCurrency</text>\n</g>\n<!-- 1 -->\n<g id=\"node2\" class=\"node\">\n<title>1</title>\n<ellipse fill=\"none\" stroke=\"#000000\" cx=\"398.6407\" cy=\"-279\" rx=\"75.2868\" ry=\"18\"/>\n<text text-anchor=\"middle\" x=\"398.6407\" y=\"-275.3\" font-family=\"Times,serif\" font-size=\"14.00\" fill=\"#000000\">ex:GudangGrosir</text>\n</g>\n<!-- 5 -->\n<g id=\"node6\" class=\"node\">\n<title>5</title>\n<ellipse fill=\"none\" stroke=\"#000000\" cx=\"190.6407\" cy=\"-192\" rx=\"68.4888\" ry=\"18\"/>\n<text text-anchor=\"middle\" x=\"190.6407\" y=\"-188.3\" font-family=\"Times,serif\" font-size=\"14.00\" fill=\"#000000\">dbpedia:Jakarta</text>\n</g>\n<!-- 1&#45;&gt;5 -->\n<g id=\"edge4\" class=\"edge\">\n<title>1&#45;&gt;5</title>\n<path fill=\"none\" stroke=\"#000000\" d=\"M356.8144,-264.0233C339.892,-257.7804 320.2345,-250.2945 302.6407,-243 279.3641,-233.3494 253.7636,-221.7665 232.9205,-212.08\"/>\n<polygon fill=\"#000000\" stroke=\"#000000\" points=\"234.2459,-208.8362 223.7042,-207.7767 231.2844,-215.1789 234.2459,-208.8362\"/>\n<text text-anchor=\"middle\" x=\"348.6407\" y=\"-231.8\" font-family=\"Times,serif\" font-size=\"14.00\" fill=\"#000000\">schema:location</text>\n</g>\n<!-- 6 -->\n<g id=\"node7\" class=\"node\">\n<title>6</title>\n<ellipse fill=\"none\" stroke=\"#000000\" cx=\"398.6407\" cy=\"-192\" rx=\"76.8869\" ry=\"18\"/>\n<text text-anchor=\"middle\" x=\"398.6407\" y=\"-188.3\" font-family=\"Times,serif\" font-size=\"14.00\" fill=\"#000000\">gr:BusinessEntity</text>\n</g>\n<!-- 1&#45;&gt;6 -->\n<g id=\"edge8\" class=\"edge\">\n<title>1&#45;&gt;6</title>\n<path fill=\"none\" stroke=\"#000000\" d=\"M398.6407,-260.9735C398.6407,-249.1918 398.6407,-233.5607 398.6407,-220.1581\"/>\n<polygon fill=\"#000000\" stroke=\"#000000\" points=\"402.1408,-220.0033 398.6407,-210.0034 395.1408,-220.0034 402.1408,-220.0033\"/>\n<text text-anchor=\"middle\" x=\"421.6407\" y=\"-231.8\" font-family=\"Times,serif\" font-size=\"14.00\" fill=\"#000000\">rdf:type</text>\n</g>\n<!-- 9 -->\n<g id=\"node10\" class=\"node\">\n<title>9</title>\n<ellipse fill=\"none\" stroke=\"#000000\" cx=\"580.6407\" cy=\"-192\" rx=\"64.9885\" ry=\"18\"/>\n<text text-anchor=\"middle\" x=\"580.6407\" y=\"-188.3\" font-family=\"Times,serif\" font-size=\"14.00\" fill=\"#000000\">ex:Headphone</text>\n</g>\n<!-- 1&#45;&gt;9 -->\n<g id=\"edge5\" class=\"edge\">\n<title>1&#45;&gt;9</title>\n<path fill=\"none\" stroke=\"#000000\" d=\"M432.447,-262.8399C462.4807,-248.4831 506.4923,-227.4446 538.7501,-212.0246\"/>\n<polygon fill=\"#000000\" stroke=\"#000000\" points=\"540.4218,-215.1049 547.9345,-207.6343 537.4028,-208.7894 540.4218,-215.1049\"/>\n<text text-anchor=\"middle\" x=\"524.1407\" y=\"-231.8\" font-family=\"Times,serif\" font-size=\"14.00\" fill=\"#000000\">gr:offers</text>\n</g>\n<!-- 4 -->\n<g id=\"node5\" class=\"node\">\n<title>4</title>\n<polygon fill=\"none\" stroke=\"#000000\" points=\"826.1407,-123 357.1407,-123 357.1407,-87 826.1407,-87 826.1407,-123\"/>\n<text text-anchor=\"middle\" x=\"591.6407\" y=\"-101.3\" font-family=\"Times,serif\" font-size=\"14.00\" fill=\"#000000\">&quot;TaffSTUDIO Splitter Audio Shape U 3.5mm ke Headphone &amp; Mic &#45; K0650&quot;</text>\n</g>\n<!-- 8 -->\n<g id=\"node9\" class=\"node\">\n<title>8</title>\n<ellipse fill=\"none\" stroke=\"#000000\" cx=\"178.6407\" cy=\"-105\" rx=\"53.8905\" ry=\"18\"/>\n<text text-anchor=\"middle\" x=\"178.6407\" y=\"-101.3\" font-family=\"Times,serif\" font-size=\"14.00\" fill=\"#000000\">gr:Location</text>\n</g>\n<!-- 5&#45;&gt;8 -->\n<g id=\"edge9\" class=\"edge\">\n<title>5&#45;&gt;8</title>\n<path fill=\"none\" stroke=\"#000000\" d=\"M188.1543,-173.9735C186.5292,-162.1918 184.3732,-146.5607 182.5246,-133.1581\"/>\n<polygon fill=\"#000000\" stroke=\"#000000\" points=\"185.9576,-132.4313 181.1239,-123.0034 179.0232,-133.3878 185.9576,-132.4313\"/>\n<text text-anchor=\"middle\" x=\"208.6407\" y=\"-144.8\" font-family=\"Times,serif\" font-size=\"14.00\" fill=\"#000000\">rdf:type</text>\n</g>\n<!-- 9&#45;&gt;0 -->\n<g id=\"edge2\" class=\"edge\">\n<title>9&#45;&gt;0</title>\n<path fill=\"none\" stroke=\"#000000\" d=\"M531.5275,-180.1612C505.0576,-173.5364 471.9117,-164.8471 442.6407,-156 406.7635,-145.1562 366.5901,-131.1951 337.1613,-120.6222\"/>\n<polygon fill=\"#000000\" stroke=\"#000000\" points=\"338.2091,-117.2795 327.6147,-117.176 335.8322,-123.8636 338.2091,-117.2795\"/>\n<text text-anchor=\"middle\" x=\"511.6407\" y=\"-144.8\" font-family=\"Times,serif\" font-size=\"14.00\" fill=\"#000000\">gr:hasPriceSpecification</text>\n</g>\n<!-- 9&#45;&gt;4 -->\n<g id=\"edge6\" class=\"edge\">\n<title>9&#45;&gt;4</title>\n<path fill=\"none\" stroke=\"#000000\" d=\"M582.9199,-173.9735C584.4096,-162.1918 586.3859,-146.5607 588.0805,-133.1581\"/>\n<polygon fill=\"#000000\" stroke=\"#000000\" points=\"591.5823,-133.3634 589.3644,-123.0034 584.6376,-132.4853 591.5823,-133.3634\"/>\n<text text-anchor=\"middle\" x=\"610.1407\" y=\"-144.8\" font-family=\"Times,serif\" font-size=\"14.00\" fill=\"#000000\">gr:name</text>\n</g>\n<!-- 10 -->\n<g id=\"node11\" class=\"node\">\n<title>10</title>\n<ellipse fill=\"none\" stroke=\"#000000\" cx=\"896.6407\" cy=\"-105\" rx=\"52.7911\" ry=\"18\"/>\n<text text-anchor=\"middle\" x=\"896.6407\" y=\"-101.3\" font-family=\"Times,serif\" font-size=\"14.00\" fill=\"#000000\">gr:Offering</text>\n</g>\n<!-- 9&#45;&gt;10 -->\n<g id=\"edge1\" class=\"edge\">\n<title>9&#45;&gt;10</title>\n<path fill=\"none\" stroke=\"#000000\" d=\"M628.1971,-179.4768C679.4817,-165.8913 763.4846,-143.4054 835.6407,-123 839.4176,-121.9319 843.3217,-120.8134 847.2449,-119.679\"/>\n<polygon fill=\"#000000\" stroke=\"#000000\" points=\"848.3516,-123.0022 856.9747,-116.8464 846.3949,-116.2813 848.3516,-123.0022\"/>\n<text text-anchor=\"middle\" x=\"788.6407\" y=\"-144.8\" font-family=\"Times,serif\" font-size=\"14.00\" fill=\"#000000\">rdf:type</text>\n</g>\n</g>\n</svg>\n"
          },
          "metadata": {}
        }
      ]
    },
    {
      "cell_type": "code",
      "metadata": {
        "colab": {
          "base_uri": "https://localhost:8080/",
          "height": 428
        },
        "id": "-1uJrwk_wXlX",
        "outputId": "b04a1bdd-92c7-4133-b25e-456578828cd2"
      },
      "source": [
        "%%rdf turtle\n",
        "# Data 2\n",
        "\n",
        "## Namespace\n",
        "@prefix rdfs: <http://www.w3.org/2000/01/rdf-schema#> .\n",
        "@prefix rdf: <http://www.w3.org/1999/02/22-rdf-syntax-ns#> .\n",
        "@prefix xsd: <http://www.w3.org/2001/XMLSchema#> .\n",
        "@prefix dbpedia: <https://dbpedia.org/resource/> .\n",
        "@prefix ex: <http://example.com/> .\n",
        "@prefix gr: <http://www.heppnetz.de/ontologies/goodrelations/v1#> .\n",
        "@prefix schema: <https://schema.org/> .\n",
        "\n",
        "## Class\n",
        "\n",
        "## Properties\n",
        "\n",
        "## Data 1\n",
        "ex:SoundSquare a gr:BusinessEntity .\n",
        "dbpedia:Jakarta a gr:Location .\n",
        "ex:SoundSquare schema:location dbpedia:Jakarta .\n",
        "\n",
        "ex:Harga a gr:UnitPriceSpecification .\n",
        "ex:Harga gr:hasCurrency \"IDR\"^^xsd:string .\n",
        "ex:Harga gr:hasCurrencyValue \"83200\"^^xsd:integer .\n",
        "\n",
        "ex:Headphone a gr:Offering .\n",
        "ex:Headphone gr:name \"TaffSTUDIO Mikrofon Kondenser Studio dengan Shockproof Mount - BM-800\" .\n",
        "ex:Headphone gr:hasPriceSpecification ex:Harga .\n",
        "\n",
        "ex:SoundSquare gr:offers ex:Headphone ."
      ],
      "execution_count": 84,
      "outputs": [
        {
          "output_type": "display_data",
          "data": {
            "text/plain": [
              "<graphviz.dot.Digraph at 0x7f3f6c522390>"
            ],
            "image/svg+xml": "<?xml version=\"1.0\" encoding=\"UTF-8\" standalone=\"no\"?>\n<!DOCTYPE svg PUBLIC \"-//W3C//DTD SVG 1.1//EN\"\n \"http://www.w3.org/Graphics/SVG/1.1/DTD/svg11.dtd\">\n<!-- Generated by graphviz version 2.40.1 (20161225.0304)\n -->\n<!-- Title: %3 Pages: 1 -->\n<svg width=\"976pt\" height=\"305pt\"\n viewBox=\"0.00 0.00 976.29 305.00\" xmlns=\"http://www.w3.org/2000/svg\" xmlns:xlink=\"http://www.w3.org/1999/xlink\">\n<g id=\"graph0\" class=\"graph\" transform=\"scale(1 1) rotate(0) translate(4 301)\">\n<title>%3</title>\n<polygon fill=\"#ffffff\" stroke=\"transparent\" points=\"-4,4 -4,-301 972.286,-301 972.286,4 -4,4\"/>\n<!-- 0 -->\n<g id=\"node1\" class=\"node\">\n<title>0</title>\n<ellipse fill=\"none\" stroke=\"#000000\" cx=\"288.6407\" cy=\"-105\" rx=\"44.393\" ry=\"18\"/>\n<text text-anchor=\"middle\" x=\"288.6407\" y=\"-101.3\" font-family=\"Times,serif\" font-size=\"14.00\" fill=\"#000000\">ex:Harga</text>\n</g>\n<!-- 2 -->\n<g id=\"node3\" class=\"node\">\n<title>2</title>\n<ellipse fill=\"none\" stroke=\"#000000\" cx=\"104.6407\" cy=\"-18\" rx=\"104.7816\" ry=\"18\"/>\n<text text-anchor=\"middle\" x=\"104.6407\" y=\"-14.3\" font-family=\"Times,serif\" font-size=\"14.00\" fill=\"#000000\">gr:UnitPriceSpecification</text>\n</g>\n<!-- 0&#45;&gt;2 -->\n<g id=\"edge9\" class=\"edge\">\n<title>0&#45;&gt;2</title>\n<path fill=\"none\" stroke=\"#000000\" d=\"M259.4854,-91.2146C230.0304,-77.2875 184.1126,-55.5764 149.9179,-39.4083\"/>\n<polygon fill=\"#000000\" stroke=\"#000000\" points=\"151.1441,-36.1165 140.6076,-35.0061 148.1519,-42.4448 151.1441,-36.1165\"/>\n<text text-anchor=\"middle\" x=\"231.6407\" y=\"-57.8\" font-family=\"Times,serif\" font-size=\"14.00\" fill=\"#000000\">rdf:type</text>\n</g>\n<!-- 6 -->\n<g id=\"node7\" class=\"node\">\n<title>6</title>\n<polygon fill=\"none\" stroke=\"#000000\" points=\"350.1407,-36 227.1407,-36 227.1407,0 350.1407,0 350.1407,-36\"/>\n<text text-anchor=\"middle\" x=\"288.6407\" y=\"-14.3\" font-family=\"Times,serif\" font-size=\"14.00\" fill=\"#000000\">&quot;IDR&quot;^^xsd:string</text>\n</g>\n<!-- 0&#45;&gt;6 -->\n<g id=\"edge5\" class=\"edge\">\n<title>0&#45;&gt;6</title>\n<path fill=\"none\" stroke=\"#000000\" d=\"M288.6407,-86.9735C288.6407,-75.1918 288.6407,-59.5607 288.6407,-46.1581\"/>\n<polygon fill=\"#000000\" stroke=\"#000000\" points=\"292.1408,-46.0033 288.6407,-36.0034 285.1408,-46.0034 292.1408,-46.0033\"/>\n<text text-anchor=\"middle\" x=\"332.6407\" y=\"-57.8\" font-family=\"Times,serif\" font-size=\"14.00\" fill=\"#000000\">gr:hasCurrency</text>\n</g>\n<!-- 7 -->\n<g id=\"node8\" class=\"node\">\n<title>7</title>\n<polygon fill=\"none\" stroke=\"#000000\" points=\"511.1407,-36 368.1407,-36 368.1407,0 511.1407,0 511.1407,-36\"/>\n<text text-anchor=\"middle\" x=\"439.6407\" y=\"-14.3\" font-family=\"Times,serif\" font-size=\"14.00\" fill=\"#000000\">&quot;83200&quot;^^xsd:integer</text>\n</g>\n<!-- 0&#45;&gt;7 -->\n<g id=\"edge7\" class=\"edge\">\n<title>0&#45;&gt;7</title>\n<path fill=\"none\" stroke=\"#000000\" d=\"M322.33,-93.1735C344.1885,-85.2423 370.4343,-75.1582 380.6407,-69 392.6238,-61.7698 404.549,-52.0635 414.5094,-43.0595\"/>\n<polygon fill=\"#000000\" stroke=\"#000000\" points=\"417.105,-45.4252 422.0398,-36.0498 412.3355,-40.3014 417.105,-45.4252\"/>\n<text text-anchor=\"middle\" x=\"461.1407\" y=\"-57.8\" font-family=\"Times,serif\" font-size=\"14.00\" fill=\"#000000\">gr:hasCurrencyValue</text>\n</g>\n<!-- 1 -->\n<g id=\"node2\" class=\"node\">\n<title>1</title>\n<ellipse fill=\"none\" stroke=\"#000000\" cx=\"399.6407\" cy=\"-279\" rx=\"72.5877\" ry=\"18\"/>\n<text text-anchor=\"middle\" x=\"399.6407\" y=\"-275.3\" font-family=\"Times,serif\" font-size=\"14.00\" fill=\"#000000\">ex:SoundSquare</text>\n</g>\n<!-- 4 -->\n<g id=\"node5\" class=\"node\">\n<title>4</title>\n<ellipse fill=\"none\" stroke=\"#000000\" cx=\"185.6407\" cy=\"-192\" rx=\"68.4888\" ry=\"18\"/>\n<text text-anchor=\"middle\" x=\"185.6407\" y=\"-188.3\" font-family=\"Times,serif\" font-size=\"14.00\" fill=\"#000000\">dbpedia:Jakarta</text>\n</g>\n<!-- 1&#45;&gt;4 -->\n<g id=\"edge4\" class=\"edge\">\n<title>1&#45;&gt;4</title>\n<path fill=\"none\" stroke=\"#000000\" d=\"M358.3587,-264.0255C341.3409,-257.7213 321.4693,-250.1906 303.6407,-243 279.0303,-233.0742 251.8251,-221.3665 229.7447,-211.6735\"/>\n<polygon fill=\"#000000\" stroke=\"#000000\" points=\"230.8664,-208.3431 220.3039,-207.515 228.0446,-214.7492 230.8664,-208.3431\"/>\n<text text-anchor=\"middle\" x=\"349.6407\" y=\"-231.8\" font-family=\"Times,serif\" font-size=\"14.00\" fill=\"#000000\">schema:location</text>\n</g>\n<!-- 5 -->\n<g id=\"node6\" class=\"node\">\n<title>5</title>\n<ellipse fill=\"none\" stroke=\"#000000\" cx=\"399.6407\" cy=\"-192\" rx=\"76.8869\" ry=\"18\"/>\n<text text-anchor=\"middle\" x=\"399.6407\" y=\"-188.3\" font-family=\"Times,serif\" font-size=\"14.00\" fill=\"#000000\">gr:BusinessEntity</text>\n</g>\n<!-- 1&#45;&gt;5 -->\n<g id=\"edge2\" class=\"edge\">\n<title>1&#45;&gt;5</title>\n<path fill=\"none\" stroke=\"#000000\" d=\"M399.6407,-260.9735C399.6407,-249.1918 399.6407,-233.5607 399.6407,-220.1581\"/>\n<polygon fill=\"#000000\" stroke=\"#000000\" points=\"403.1408,-220.0033 399.6407,-210.0034 396.1408,-220.0034 403.1408,-220.0033\"/>\n<text text-anchor=\"middle\" x=\"422.6407\" y=\"-231.8\" font-family=\"Times,serif\" font-size=\"14.00\" fill=\"#000000\">rdf:type</text>\n</g>\n<!-- 9 -->\n<g id=\"node10\" class=\"node\">\n<title>9</title>\n<ellipse fill=\"none\" stroke=\"#000000\" cx=\"584.6407\" cy=\"-192\" rx=\"64.9885\" ry=\"18\"/>\n<text text-anchor=\"middle\" x=\"584.6407\" y=\"-188.3\" font-family=\"Times,serif\" font-size=\"14.00\" fill=\"#000000\">ex:Headphone</text>\n</g>\n<!-- 1&#45;&gt;9 -->\n<g id=\"edge3\" class=\"edge\">\n<title>1&#45;&gt;9</title>\n<path fill=\"none\" stroke=\"#000000\" d=\"M433.5726,-263.0429C464.1434,-248.6663 509.2133,-227.4713 542.1673,-211.974\"/>\n<polygon fill=\"#000000\" stroke=\"#000000\" points=\"543.9866,-214.9862 551.5464,-207.5633 541.0076,-208.6517 543.9866,-214.9862\"/>\n<text text-anchor=\"middle\" x=\"527.1407\" y=\"-231.8\" font-family=\"Times,serif\" font-size=\"14.00\" fill=\"#000000\">gr:offers</text>\n</g>\n<!-- 3 -->\n<g id=\"node4\" class=\"node\">\n<title>3</title>\n<polygon fill=\"none\" stroke=\"#000000\" points=\"844.6407,-123 350.6407,-123 350.6407,-87 844.6407,-87 844.6407,-123\"/>\n<text text-anchor=\"middle\" x=\"597.6407\" y=\"-101.3\" font-family=\"Times,serif\" font-size=\"14.00\" fill=\"#000000\">&quot;TaffSTUDIO Mikrofon Kondenser Studio dengan Shockproof Mount &#45; BM&#45;800&quot;</text>\n</g>\n<!-- 8 -->\n<g id=\"node9\" class=\"node\">\n<title>8</title>\n<ellipse fill=\"none\" stroke=\"#000000\" cx=\"172.6407\" cy=\"-105\" rx=\"53.8905\" ry=\"18\"/>\n<text text-anchor=\"middle\" x=\"172.6407\" y=\"-101.3\" font-family=\"Times,serif\" font-size=\"14.00\" fill=\"#000000\">gr:Location</text>\n</g>\n<!-- 4&#45;&gt;8 -->\n<g id=\"edge8\" class=\"edge\">\n<title>4&#45;&gt;8</title>\n<path fill=\"none\" stroke=\"#000000\" d=\"M182.9471,-173.9735C181.1866,-162.1918 178.8509,-146.5607 176.8482,-133.1581\"/>\n<polygon fill=\"#000000\" stroke=\"#000000\" points=\"180.2704,-132.3763 175.3309,-123.0034 173.3472,-133.4108 180.2704,-132.3763\"/>\n<text text-anchor=\"middle\" x=\"203.6407\" y=\"-144.8\" font-family=\"Times,serif\" font-size=\"14.00\" fill=\"#000000\">rdf:type</text>\n</g>\n<!-- 9&#45;&gt;0 -->\n<g id=\"edge1\" class=\"edge\">\n<title>9&#45;&gt;0</title>\n<path fill=\"none\" stroke=\"#000000\" d=\"M536.3102,-179.8639C510.0114,-173.1184 476.9526,-164.4093 447.6407,-156 400.2126,-142.3933 388.5603,-138.2682 341.6407,-123 338.5451,-121.9926 335.3521,-120.9407 332.1402,-119.8731\"/>\n<polygon fill=\"#000000\" stroke=\"#000000\" points=\"333.1201,-116.5103 322.5263,-116.6522 330.8964,-123.1477 333.1201,-116.5103\"/>\n<text text-anchor=\"middle\" x=\"516.6407\" y=\"-144.8\" font-family=\"Times,serif\" font-size=\"14.00\" fill=\"#000000\">gr:hasPriceSpecification</text>\n</g>\n<!-- 9&#45;&gt;3 -->\n<g id=\"edge10\" class=\"edge\">\n<title>9&#45;&gt;3</title>\n<path fill=\"none\" stroke=\"#000000\" d=\"M587.3343,-173.9735C589.0948,-162.1918 591.4305,-146.5607 593.4332,-133.1581\"/>\n<polygon fill=\"#000000\" stroke=\"#000000\" points=\"596.9342,-133.4108 594.9506,-123.0034 590.0111,-132.3763 596.9342,-133.4108\"/>\n<text text-anchor=\"middle\" x=\"615.1407\" y=\"-144.8\" font-family=\"Times,serif\" font-size=\"14.00\" fill=\"#000000\">gr:name</text>\n</g>\n<!-- 10 -->\n<g id=\"node11\" class=\"node\">\n<title>10</title>\n<ellipse fill=\"none\" stroke=\"#000000\" cx=\"915.6407\" cy=\"-105\" rx=\"52.7911\" ry=\"18\"/>\n<text text-anchor=\"middle\" x=\"915.6407\" y=\"-101.3\" font-family=\"Times,serif\" font-size=\"14.00\" fill=\"#000000\">gr:Offering</text>\n</g>\n<!-- 9&#45;&gt;10 -->\n<g id=\"edge6\" class=\"edge\">\n<title>9&#45;&gt;10</title>\n<path fill=\"none\" stroke=\"#000000\" d=\"M633.3577,-179.9936C687.3375,-166.5762 776.9039,-143.9753 853.6407,-123 857.6546,-121.9028 861.8081,-120.7454 865.9765,-119.5681\"/>\n<polygon fill=\"#000000\" stroke=\"#000000\" points=\"867.0135,-122.912 875.6707,-116.8044 865.0943,-116.1802 867.0135,-122.912\"/>\n<text text-anchor=\"middle\" x=\"802.6407\" y=\"-144.8\" font-family=\"Times,serif\" font-size=\"14.00\" fill=\"#000000\">rdf:type</text>\n</g>\n</g>\n</svg>\n"
          },
          "metadata": {}
        }
      ]
    },
    {
      "cell_type": "code",
      "metadata": {
        "colab": {
          "base_uri": "https://localhost:8080/",
          "height": 428
        },
        "id": "YQ-o3Ja6wru3",
        "outputId": "1a699776-d92e-406f-f046-660df8679044"
      },
      "source": [
        "%%rdf turtle\n",
        "# Data 3\n",
        "\n",
        "## Namespace\n",
        "@prefix rdfs: <http://www.w3.org/2000/01/rdf-schema#> .\n",
        "@prefix rdf: <http://www.w3.org/1999/02/22-rdf-syntax-ns#> .\n",
        "@prefix xsd: <http://www.w3.org/2001/XMLSchema#> .\n",
        "@prefix dbpedia: <https://dbpedia.org/resource/> .\n",
        "@prefix ex: <http://example.com/> .\n",
        "@prefix gr: <http://www.heppnetz.de/ontologies/goodrelations/v1#> .\n",
        "@prefix schema: <https://schema.org/> .\n",
        "\n",
        "## Class\n",
        "\n",
        "## Properties\n",
        "\n",
        "## Data 1\n",
        "ex:Computindo a gr:BusinessEntity .\n",
        "dbpedia:Jakarta a gr:Location .\n",
        "ex:Computindo schema:location dbpedia:Jakarta .\n",
        "\n",
        "ex:Harga a gr:UnitPriceSpecification .\n",
        "ex:Harga gr:hasCurrency \"IDR\"^^xsd:string .\n",
        "ex:Harga gr:hasCurrencyValue \"459100\"^^xsd:integer .\n",
        "\n",
        "ex:Headphone a gr:Offering .\n",
        "ex:Headphone gr:name \"Zjiang Printer Resep Thermal Bluetooth - ZJ-5802DD\" .\n",
        "ex:Headphone gr:hasPriceSpecification ex:Harga .\n",
        "\n",
        "ex:Computindo gr:offers ex:Headphone ."
      ],
      "execution_count": 85,
      "outputs": [
        {
          "output_type": "display_data",
          "data": {
            "text/plain": [
              "<graphviz.dot.Digraph at 0x7f3f6c453f10>"
            ],
            "image/svg+xml": "<?xml version=\"1.0\" encoding=\"UTF-8\" standalone=\"no\"?>\n<!DOCTYPE svg PUBLIC \"-//W3C//DTD SVG 1.1//EN\"\n \"http://www.w3.org/Graphics/SVG/1.1/DTD/svg11.dtd\">\n<!-- Generated by graphviz version 2.40.1 (20161225.0304)\n -->\n<!-- Title: %3 Pages: 1 -->\n<svg width=\"808pt\" height=\"305pt\"\n viewBox=\"0.00 0.00 807.65 305.00\" xmlns=\"http://www.w3.org/2000/svg\" xmlns:xlink=\"http://www.w3.org/1999/xlink\">\n<g id=\"graph0\" class=\"graph\" transform=\"scale(1 1) rotate(0) translate(4 301)\">\n<title>%3</title>\n<polygon fill=\"#ffffff\" stroke=\"transparent\" points=\"-4,4 -4,-301 803.6453,-301 803.6453,4 -4,4\"/>\n<!-- 0 -->\n<g id=\"node1\" class=\"node\">\n<title>0</title>\n<polygon fill=\"none\" stroke=\"#000000\" points=\"150,-36 0,-36 0,0 150,0 150,-36\"/>\n<text text-anchor=\"middle\" x=\"75\" y=\"-14.3\" font-family=\"Times,serif\" font-size=\"14.00\" fill=\"#000000\">&quot;459100&quot;^^xsd:integer</text>\n</g>\n<!-- 1 -->\n<g id=\"node2\" class=\"node\">\n<title>1</title>\n<ellipse fill=\"none\" stroke=\"#000000\" cx=\"273\" cy=\"-105\" rx=\"44.393\" ry=\"18\"/>\n<text text-anchor=\"middle\" x=\"273\" y=\"-101.3\" font-family=\"Times,serif\" font-size=\"14.00\" fill=\"#000000\">ex:Harga</text>\n</g>\n<!-- 1&#45;&gt;0 -->\n<g id=\"edge7\" class=\"edge\">\n<title>1&#45;&gt;0</title>\n<path fill=\"none\" stroke=\"#000000\" d=\"M239.4882,-93.1535C233.0502,-91.0098 226.3392,-88.8654 220,-87 188.3568,-77.6884 178.0178,-82.6722 148,-69 132.6499,-62.0085 117.1248,-51.7133 104.3617,-42.2001\"/>\n<polygon fill=\"#000000\" stroke=\"#000000\" points=\"106.4702,-39.4063 96.4031,-36.1041 102.2136,-44.9635 106.4702,-39.4063\"/>\n<text text-anchor=\"middle\" x=\"208.5\" y=\"-57.8\" font-family=\"Times,serif\" font-size=\"14.00\" fill=\"#000000\">gr:hasCurrencyValue</text>\n</g>\n<!-- 2 -->\n<g id=\"node3\" class=\"node\">\n<title>2</title>\n<ellipse fill=\"none\" stroke=\"#000000\" cx=\"273\" cy=\"-18\" rx=\"104.7816\" ry=\"18\"/>\n<text text-anchor=\"middle\" x=\"273\" y=\"-14.3\" font-family=\"Times,serif\" font-size=\"14.00\" fill=\"#000000\">gr:UnitPriceSpecification</text>\n</g>\n<!-- 1&#45;&gt;2 -->\n<g id=\"edge4\" class=\"edge\">\n<title>1&#45;&gt;2</title>\n<path fill=\"none\" stroke=\"#000000\" d=\"M273,-86.9735C273,-75.1918 273,-59.5607 273,-46.1581\"/>\n<polygon fill=\"#000000\" stroke=\"#000000\" points=\"276.5001,-46.0033 273,-36.0034 269.5001,-46.0034 276.5001,-46.0033\"/>\n<text text-anchor=\"middle\" x=\"296\" y=\"-57.8\" font-family=\"Times,serif\" font-size=\"14.00\" fill=\"#000000\">rdf:type</text>\n</g>\n<!-- 6 -->\n<g id=\"node7\" class=\"node\">\n<title>6</title>\n<polygon fill=\"none\" stroke=\"#000000\" points=\"518.5,-36 395.5,-36 395.5,0 518.5,0 518.5,-36\"/>\n<text text-anchor=\"middle\" x=\"457\" y=\"-14.3\" font-family=\"Times,serif\" font-size=\"14.00\" fill=\"#000000\">&quot;IDR&quot;^^xsd:string</text>\n</g>\n<!-- 1&#45;&gt;6 -->\n<g id=\"edge10\" class=\"edge\">\n<title>1&#45;&gt;6</title>\n<path fill=\"none\" stroke=\"#000000\" d=\"M302.1553,-91.2146C330.9619,-77.5941 375.5145,-56.5285 409.4479,-40.4839\"/>\n<polygon fill=\"#000000\" stroke=\"#000000\" points=\"411.171,-43.5407 418.7153,-36.102 408.1788,-37.2124 411.171,-43.5407\"/>\n<text text-anchor=\"middle\" x=\"420\" y=\"-57.8\" font-family=\"Times,serif\" font-size=\"14.00\" fill=\"#000000\">gr:hasCurrency</text>\n</g>\n<!-- 3 -->\n<g id=\"node4\" class=\"node\">\n<title>3</title>\n<ellipse fill=\"none\" stroke=\"#000000\" cx=\"161\" cy=\"-192\" rx=\"68.4888\" ry=\"18\"/>\n<text text-anchor=\"middle\" x=\"161\" y=\"-188.3\" font-family=\"Times,serif\" font-size=\"14.00\" fill=\"#000000\">dbpedia:Jakarta</text>\n</g>\n<!-- 8 -->\n<g id=\"node9\" class=\"node\">\n<title>8</title>\n<ellipse fill=\"none\" stroke=\"#000000\" cx=\"157\" cy=\"-105\" rx=\"53.8905\" ry=\"18\"/>\n<text text-anchor=\"middle\" x=\"157\" y=\"-101.3\" font-family=\"Times,serif\" font-size=\"14.00\" fill=\"#000000\">gr:Location</text>\n</g>\n<!-- 3&#45;&gt;8 -->\n<g id=\"edge6\" class=\"edge\">\n<title>3&#45;&gt;8</title>\n<path fill=\"none\" stroke=\"#000000\" d=\"M160.1712,-173.9735C159.6295,-162.1918 158.9108,-146.5607 158.2946,-133.1581\"/>\n<polygon fill=\"#000000\" stroke=\"#000000\" points=\"161.7834,-132.832 157.8277,-123.0034 154.7908,-133.1536 161.7834,-132.832\"/>\n<text text-anchor=\"middle\" x=\"183\" y=\"-144.8\" font-family=\"Times,serif\" font-size=\"14.00\" fill=\"#000000\">rdf:type</text>\n</g>\n<!-- 4 -->\n<g id=\"node5\" class=\"node\">\n<title>4</title>\n<ellipse fill=\"none\" stroke=\"#000000\" cx=\"337\" cy=\"-192\" rx=\"76.8869\" ry=\"18\"/>\n<text text-anchor=\"middle\" x=\"337\" y=\"-188.3\" font-family=\"Times,serif\" font-size=\"14.00\" fill=\"#000000\">gr:BusinessEntity</text>\n</g>\n<!-- 5 -->\n<g id=\"node6\" class=\"node\">\n<title>5</title>\n<ellipse fill=\"none\" stroke=\"#000000\" cx=\"337\" cy=\"-279\" rx=\"69.5877\" ry=\"18\"/>\n<text text-anchor=\"middle\" x=\"337\" y=\"-275.3\" font-family=\"Times,serif\" font-size=\"14.00\" fill=\"#000000\">ex:Computindo</text>\n</g>\n<!-- 5&#45;&gt;3 -->\n<g id=\"edge1\" class=\"edge\">\n<title>5&#45;&gt;3</title>\n<path fill=\"none\" stroke=\"#000000\" d=\"M293.6542,-264.9161C276.8754,-258.9068 257.721,-251.3502 241,-243 224.6478,-234.834 207.4402,-224.1647 193.1914,-214.6966\"/>\n<polygon fill=\"#000000\" stroke=\"#000000\" points=\"194.9827,-211.6831 184.7359,-208.9898 191.0667,-217.4852 194.9827,-211.6831\"/>\n<text text-anchor=\"middle\" x=\"287\" y=\"-231.8\" font-family=\"Times,serif\" font-size=\"14.00\" fill=\"#000000\">schema:location</text>\n</g>\n<!-- 5&#45;&gt;4 -->\n<g id=\"edge9\" class=\"edge\">\n<title>5&#45;&gt;4</title>\n<path fill=\"none\" stroke=\"#000000\" d=\"M337,-260.9735C337,-249.1918 337,-233.5607 337,-220.1581\"/>\n<polygon fill=\"#000000\" stroke=\"#000000\" points=\"340.5001,-220.0033 337,-210.0034 333.5001,-220.0034 340.5001,-220.0033\"/>\n<text text-anchor=\"middle\" x=\"360\" y=\"-231.8\" font-family=\"Times,serif\" font-size=\"14.00\" fill=\"#000000\">rdf:type</text>\n</g>\n<!-- 9 -->\n<g id=\"node10\" class=\"node\">\n<title>9</title>\n<ellipse fill=\"none\" stroke=\"#000000\" cx=\"503\" cy=\"-192\" rx=\"64.9885\" ry=\"18\"/>\n<text text-anchor=\"middle\" x=\"503\" y=\"-188.3\" font-family=\"Times,serif\" font-size=\"14.00\" fill=\"#000000\">ex:Headphone</text>\n</g>\n<!-- 5&#45;&gt;9 -->\n<g id=\"edge3\" class=\"edge\">\n<title>5&#45;&gt;9</title>\n<path fill=\"none\" stroke=\"#000000\" d=\"M367.8343,-262.8399C394.8234,-248.695 434.1878,-228.0642 463.4823,-212.7111\"/>\n<polygon fill=\"#000000\" stroke=\"#000000\" points=\"465.3786,-215.6689 472.6111,-207.9267 462.1291,-209.4688 465.3786,-215.6689\"/>\n<text text-anchor=\"middle\" x=\"453.5\" y=\"-231.8\" font-family=\"Times,serif\" font-size=\"14.00\" fill=\"#000000\">gr:offers</text>\n</g>\n<!-- 7 -->\n<g id=\"node8\" class=\"node\">\n<title>7</title>\n<polygon fill=\"none\" stroke=\"#000000\" points=\"676.5,-123 335.5,-123 335.5,-87 676.5,-87 676.5,-123\"/>\n<text text-anchor=\"middle\" x=\"506\" y=\"-101.3\" font-family=\"Times,serif\" font-size=\"14.00\" fill=\"#000000\">&quot;Zjiang Printer Resep Thermal Bluetooth &#45; ZJ&#45;5802DD&quot;</text>\n</g>\n<!-- 9&#45;&gt;1 -->\n<g id=\"edge5\" class=\"edge\">\n<title>9&#45;&gt;1</title>\n<path fill=\"none\" stroke=\"#000000\" d=\"M452.4804,-180.6167C419.0221,-172.7882 378.3894,-162.6445 362,-156 342.0872,-147.927 321.1746,-136.1349 304.628,-125.9227\"/>\n<polygon fill=\"#000000\" stroke=\"#000000\" points=\"306.2471,-122.8064 295.9187,-120.4454 302.5205,-128.732 306.2471,-122.8064\"/>\n<text text-anchor=\"middle\" x=\"431\" y=\"-144.8\" font-family=\"Times,serif\" font-size=\"14.00\" fill=\"#000000\">gr:hasPriceSpecification</text>\n</g>\n<!-- 9&#45;&gt;7 -->\n<g id=\"edge2\" class=\"edge\">\n<title>9&#45;&gt;7</title>\n<path fill=\"none\" stroke=\"#000000\" d=\"M503.6216,-173.9735C504.0279,-162.1918 504.5669,-146.5607 505.029,-133.1581\"/>\n<polygon fill=\"#000000\" stroke=\"#000000\" points=\"508.5324,-133.1181 505.3792,-123.0034 501.5366,-132.8768 508.5324,-133.1181\"/>\n<text text-anchor=\"middle\" x=\"527.5\" y=\"-144.8\" font-family=\"Times,serif\" font-size=\"14.00\" fill=\"#000000\">gr:name</text>\n</g>\n<!-- 10 -->\n<g id=\"node11\" class=\"node\">\n<title>10</title>\n<ellipse fill=\"none\" stroke=\"#000000\" cx=\"747\" cy=\"-105\" rx=\"52.7911\" ry=\"18\"/>\n<text text-anchor=\"middle\" x=\"747\" y=\"-101.3\" font-family=\"Times,serif\" font-size=\"14.00\" fill=\"#000000\">gr:Offering</text>\n</g>\n<!-- 9&#45;&gt;10 -->\n<g id=\"edge8\" class=\"edge\">\n<title>9&#45;&gt;10</title>\n<path fill=\"none\" stroke=\"#000000\" d=\"M543.0184,-177.7311C586.3477,-162.2817 655.3551,-137.6767 700.9176,-121.431\"/>\n<polygon fill=\"#000000\" stroke=\"#000000\" points=\"702.3053,-124.6521 710.549,-117.9969 699.9544,-118.0587 702.3053,-124.6521\"/>\n<text text-anchor=\"middle\" x=\"662\" y=\"-144.8\" font-family=\"Times,serif\" font-size=\"14.00\" fill=\"#000000\">rdf:type</text>\n</g>\n</g>\n</svg>\n"
          },
          "metadata": {}
        }
      ]
    },
    {
      "cell_type": "markdown",
      "metadata": {
        "id": "mYVSLWksB1yT"
      },
      "source": [
        "##Daftar Pustaka:\n",
        "\n",
        "1.   Rakhmawati, N. A. (2015). Semantic Web dan Linked Data. Yogyakarta, Indonesia: SiBuku.\n",
        "2. alamat DOI zenodo python notebook\n",
        "\n",
        "\n",
        "\n",
        "\n",
        "\n",
        "\n"
      ]
    }
  ]
}